{
 "cells": [
  {
   "cell_type": "code",
   "execution_count": 1,
   "id": "3da9d63f-d6c1-4dd9-9563-4d4ab6471d90",
   "metadata": {
    "tags": []
   },
   "outputs": [],
   "source": [
    "import pickle\n",
    "import torch\n",
    "import torch.nn as nn\n",
    "import torch.optim as optim\n",
    "from torch_geometric.nn import GCNConv, GATConv, SAGEConv\n",
    "from torch_geometric.data import Data, DataLoader\n",
    "import matplotlib.pyplot as plt\n",
    "\n",
    "\n",
    "import numpy as np\n",
    "import torch.nn.functional as F"
   ]
  },
  {
   "cell_type": "code",
   "execution_count": 2,
   "id": "a9655487-36fb-4fd7-bc05-e2edb68e0701",
   "metadata": {
    "tags": []
   },
   "outputs": [
    {
     "name": "stdout",
     "output_type": "stream",
     "text": [
      "Data(x=[468, 1], edge_index=[2, 46971], edge_attr=[46971], y=[468])\n"
     ]
    }
   ],
   "source": [
    "# Load data from the pickle file\n",
    "with open('graph-slow75.pkl', 'rb') as f:\n",
    "    loaded_data = pickle.load(f)\n",
    "\n",
    "print(loaded_data[0])"
   ]
  },
  {
   "cell_type": "code",
   "execution_count": 3,
   "id": "0877f674-985c-4250-a8c4-a0f7e30b4c71",
   "metadata": {
    "tags": []
   },
   "outputs": [],
   "source": [
    "# Training size\n",
    "num_train_samples = 3744\n",
    "\n",
    "train_data = loaded_data[:num_train_samples]\n",
    "test_data = loaded_data[num_train_samples:]"
   ]
  },
  {
   "cell_type": "code",
   "execution_count": 4,
   "id": "439718f5-3552-425d-a250-f17c21d62341",
   "metadata": {
    "tags": []
   },
   "outputs": [
    {
     "name": "stderr",
     "output_type": "stream",
     "text": [
      "/opt/conda/lib/python3.10/site-packages/torch_geometric/deprecation.py:22: UserWarning: 'data.DataLoader' is deprecated, use 'loader.DataLoader' instead\n",
      "  warnings.warn(out)\n"
     ]
    }
   ],
   "source": [
    "# Splitting data into train and test set\n",
    "batch_size = 16\n",
    "train_loader = DataLoader(train_data, batch_size=batch_size, shuffle=False)\n",
    "test_loader = DataLoader(test_data, batch_size=batch_size, shuffle=False)"
   ]
  },
  {
   "cell_type": "code",
   "execution_count": 5,
   "id": "9ecea9d4-c957-4fff-b186-e6a8597bbe2f",
   "metadata": {
    "tags": []
   },
   "outputs": [
    {
     "data": {
      "text/plain": [
       "device(type='cuda', index=0)"
      ]
     },
     "execution_count": 5,
     "metadata": {},
     "output_type": "execute_result"
    }
   ],
   "source": [
    "# Check if a GPU is available and use it, otherwise use CPU\n",
    "device = torch.device(\"cuda:0\" if torch.cuda.is_available() else \"cpu\")\n",
    "device"
   ]
  },
  {
   "cell_type": "code",
   "execution_count": 7,
   "id": "94d76fef-7e63-4eba-a653-7b21b415784c",
   "metadata": {
    "tags": []
   },
   "outputs": [],
   "source": [
    "# Define your GCN model\n",
    "class GCN(nn.Module):\n",
    "    def __init__(self, input_dim, hidden_dim, output_dim, dropout_prob):\n",
    "        super(GCN, self).__init__()\n",
    "        self.conv1 = GCNConv(input_dim, hidden_dim)\n",
    "        self.dropout1 = nn.Dropout(dropout_prob)\n",
    "        self.conv2 = GCNConv(hidden_dim, output_dim)\n",
    "        self.dropout2 = nn.Dropout(dropout_prob)  # Dropout after the second layer\n",
    "\n",
    "\n",
    "    def forward(self, x, edge_index):\n",
    "        x = self.conv1(x, edge_index)\n",
    "        x = torch.relu(x)\n",
    "        x = self.dropout1(x)  # Apply dropout after the first activation\n",
    "        x = self.conv2(x, edge_index)\n",
    "        x = self.dropout2(x)  # Apply dropout after the second activation\n",
    "        return x"
   ]
  },
  {
   "cell_type": "code",
   "execution_count": null,
   "id": "6b08cfce-a84c-427f-b013-a2c50e8cdc76",
   "metadata": {
    "tags": []
   },
   "outputs": [],
   "source": [
    "weight = torch.tensor([4.0])  # Weight for positive class\n",
    "\n",
    "# Initialize your model, optimizer, and loss function\n",
    "model = GCN(input_dim=1, hidden_dim=256, output_dim=1, dropout_prob=0).to(device)  # Adjust dimensions as needed\n",
    "optimizer = optim.Adam(model.parameters(), lr=0.01)\n",
    "# criterion = nn.BCEWithLogitsLoss().to(device)  # Binary classification loss\n",
    "criterion = nn.BCEWithLogitsLoss(pos_weight=weight).to(device)  # Binary classification loss\n",
    "\n",
    "# Training loop\n",
    "model.train()\n",
    "num_epochs = 50  # Adjust as needed\n",
    "\n",
    "# Lists to store loss and accuracy values for plotting\n",
    "loss_curve = []\n",
    "accuracy_curve = []\n",
    "\n",
    "for epoch in range(num_epochs):\n",
    "    total_loss = 0\n",
    "    TP_train = 0\n",
    "    TN_train = 0\n",
    "    FP_train = 0\n",
    "    FN_train = 0\n",
    "    \n",
    "    for batch in train_loader:\n",
    "        batch = batch.to(device)\n",
    "        optimizer.zero_grad()\n",
    "        out = model(batch.x.float(), batch.edge_index)\n",
    "        loss = criterion(out.squeeze(), batch.y.float())  # Squeeze to match the shapes\n",
    "        loss.backward()\n",
    "        optimizer.step()\n",
    "        total_loss += loss.item()\n",
    "        \n",
    "        # Calculate accuracy for this batch\n",
    "        predicted = (out > 0).int()\n",
    "        element_wise_comparison = (predicted.squeeze() == batch.y)\n",
    "\n",
    "        # Calculate TP, TN, FP, FN\n",
    "        TP = torch.sum((predicted.squeeze() == 1) & (batch.y == 1)).item()\n",
    "        TN = torch.sum((predicted.squeeze() == 0) & (batch.y == 0)).item()\n",
    "        FP = torch.sum((predicted.squeeze() == 1) & (batch.y == 0)).item()\n",
    "        FN = torch.sum((predicted.squeeze() == 0) & (batch.y == 1)).item()\n",
    "        \n",
    "        TP_train += TP\n",
    "        TN_train += TN\n",
    "        FP_train += FP\n",
    "        FN_train += FN\n",
    "\n",
    "    average_loss = total_loss / len(train_loader)    \n",
    "    train_accuracy = (TP_train + TN_train) / (TP_train + TN_train + FP_train + FN_train)\n",
    "    train_sensitivity = TP_train / (TP_train + FN_train)\n",
    "    train_specificity = TN_train / (TN_train + FP_train)\n",
    "    \n",
    "    # Calculate F1-Score for the whole test set\n",
    "    if TP_train == 0 and FP_train == 0:\n",
    "        train_precision = 0\n",
    "        train_f1_score = 0\n",
    "    else:\n",
    "        train_precision = TP_train / (TP_train + FP_train)\n",
    "        train_f1_score = 2 * (train_precision * train_sensitivity) / (train_precision + train_sensitivity)\n",
    "    \n",
    "    print(f'Epoch [{epoch+1}/{num_epochs}], Loss: {average_loss:.4f}, Accuracy: {train_accuracy:.4f}, Sensitivity: {train_sensitivity:.4f}, Specificity: {train_specificity:.4f}, F1score: {train_f1_score:.4f}')\n",
    "\n",
    "    # Append loss and accuracy to the curves\n",
    "    loss_curve.append(average_loss)\n",
    "    accuracy_curve.append(train_accuracy)"
   ]
  },
  {
   "cell_type": "code",
   "execution_count": null,
   "id": "867b0185-f9a0-4e90-b1ab-c1855dd60a6f",
   "metadata": {
    "tags": []
   },
   "outputs": [],
   "source": [
    "# Create a figure with two subplots stacked vertically\n",
    "fig, (ax1, ax2) = plt.subplots(2, 1, figsize=(8, 6))\n",
    "\n",
    "# Plot the loss curve in the first subplot\n",
    "ax1.plot(range(1, num_epochs+1), loss_curve, label='Loss')\n",
    "ax1.set_xlabel('Epoch')\n",
    "ax1.set_ylabel('Loss')\n",
    "ax1.set_title('Loss Curve')\n",
    "\n",
    "# Plot the accuracy curve in the second subplot\n",
    "ax2.plot(range(1, num_epochs+1), [acc * 100 for acc in accuracy_curve], label='Accuracy')\n",
    "ax2.set_xlabel('Epoch')\n",
    "ax2.set_ylabel('Accuracy (%)')\n",
    "ax2.set_title('Accuracy Curve')\n",
    "\n",
    "# Adjust spacing between subplots\n",
    "plt.tight_layout()\n",
    "\n",
    "# Save the image with 600 DPI\n",
    "plt.savefig('run15_training.png', dpi=600)\n",
    "\n",
    "# Display the plot\n",
    "plt.show()\n"
   ]
  },
  {
   "cell_type": "code",
   "execution_count": null,
   "id": "8e9eb19d-4952-4bb5-8b77-d42e5379e6bb",
   "metadata": {
    "tags": []
   },
   "outputs": [],
   "source": [
    "# Evaluation loop (on the test set)\n",
    "model.eval()\n",
    "\n",
    "TP_test = 0\n",
    "TN_test = 0\n",
    "FP_test = 0\n",
    "FN_test = 0\n",
    "\n",
    "with torch.no_grad():\n",
    "    for batch in test_loader:\n",
    "        batch = batch.to(device)\n",
    "        out = model(batch.x.float(), batch.edge_index)\n",
    "        predicted = (out > -0.1).int()  # Assuming a threshold of 0. Adjust as needed\n",
    "        element_wise_comparison = (predicted.squeeze() == batch.y)\n",
    "\n",
    "        # Calculate TP, TN, FP, FN\n",
    "        TP = torch.sum((predicted.squeeze() == 1) & (batch.y == 1)).item()\n",
    "        TN = torch.sum((predicted.squeeze() == 0) & (batch.y == 0)).item()\n",
    "        FP = torch.sum((predicted.squeeze() == 1) & (batch.y == 0)).item()\n",
    "        FN = torch.sum((predicted.squeeze() == 0) & (batch.y == 1)).item()\n",
    "        \n",
    "        TP_test += TP\n",
    "        TN_test += TN\n",
    "        FP_test += FP\n",
    "        FN_test += FN\n",
    "\n",
    "# Calculate Sensitivity (Recall)\n",
    "test_sensitivity = TP_test / (TP_test + FN_test)\n",
    "\n",
    "# Calculate Specificity\n",
    "test_specificity = TN_test / (TN_test + FP_test)\n",
    "\n",
    "# Calculate F1-Score for the whole test set\n",
    "test_precision = TP_test / (TP_test + FP_test)\n",
    "test_f1_score = 2 * (test_precision * test_sensitivity) / (test_precision + test_sensitivity)\n",
    "\n",
    "# Calculate Accuracy\n",
    "test_accuracy = (TP_test + TN_test) / (TP_test + TN_test + FP_test + FN_test)\n",
    "\n",
    "print(f'GCN: Test Accuracy: {test_accuracy * 100:.2f}%')\n",
    "print(f\"Sensitivity (Recall): {test_sensitivity:.4f}\")\n",
    "print(f\"Specificity: {test_specificity:.4f}\")\n",
    "print(f\"F1-Score: {test_f1_score:.4f}\")"
   ]
  },
  {
   "cell_type": "code",
   "execution_count": 7,
   "id": "d9887289-a5c5-4de7-8745-2aded1b1eba1",
   "metadata": {},
   "outputs": [],
   "source": [
    "# Define your GAT model\n",
    "class GAT(nn.Module):\n",
    "    def __init__(self, input_dim, hidden_dim, output_dim, num_heads):\n",
    "        super(GAT, self).__init__()\n",
    "        self.conv1 = GATConv(input_dim, hidden_dim, heads=num_heads)\n",
    "        self.conv2 = GATConv(hidden_dim * num_heads, output_dim, heads=1)\n",
    "\n",
    "    def forward(self, x, edge_index):\n",
    "        x = self.conv1(x, edge_index)\n",
    "        x = torch.relu(x)\n",
    "        x = self.conv2(x, edge_index)\n",
    "        return x"
   ]
  },
  {
   "cell_type": "code",
   "execution_count": 8,
   "id": "58317298-6770-43c2-817c-25fc82e55dda",
   "metadata": {},
   "outputs": [
    {
     "name": "stdout",
     "output_type": "stream",
     "text": [
      "Epoch [1/20], Loss: 0.5564, Accuracy: 0.8218, Sensitivity: 0.9181, Specificity: 0.7890, F1score: 0.7241\n",
      "Epoch [2/20], Loss: 0.4409, Accuracy: 0.9228, Sensitivity: 0.9372, Specificity: 0.9178, F1score: 0.8607\n",
      "Epoch [3/20], Loss: 0.4913, Accuracy: 0.8607, Sensitivity: 0.9261, Specificity: 0.8384, F1score: 0.7720\n",
      "Epoch [4/20], Loss: 0.5774, Accuracy: 0.8426, Sensitivity: 0.8950, Specificity: 0.8247, F1score: 0.7433\n",
      "Epoch [5/20], Loss: 0.5218, Accuracy: 0.8704, Sensitivity: 0.8755, Specificity: 0.8686, F1score: 0.7748\n",
      "Epoch [6/20], Loss: 0.4328, Accuracy: 0.9031, Sensitivity: 0.8841, Specificity: 0.9095, F1score: 0.8229\n",
      "Epoch [7/20], Loss: 0.4086, Accuracy: 0.9135, Sensitivity: 0.8824, Specificity: 0.9241, F1score: 0.8385\n",
      "Epoch [8/20], Loss: 0.6528, Accuracy: 0.7442, Sensitivity: 0.9120, Specificity: 0.6869, F1score: 0.6449\n",
      "Epoch [9/20], Loss: 0.6829, Accuracy: 0.7096, Sensitivity: 0.9126, Specificity: 0.6403, F1score: 0.6155\n",
      "Epoch [10/20], Loss: 0.6787, Accuracy: 0.7106, Sensitivity: 0.9140, Specificity: 0.6411, F1score: 0.6166\n",
      "Epoch [11/20], Loss: 0.6782, Accuracy: 0.7091, Sensitivity: 0.9212, Specificity: 0.6366, F1score: 0.6173\n",
      "Epoch [12/20], Loss: 0.6778, Accuracy: 0.7093, Sensitivity: 0.9219, Specificity: 0.6367, F1score: 0.6176\n",
      "Epoch [13/20], Loss: 0.6808, Accuracy: 0.7191, Sensitivity: 0.8992, Specificity: 0.6576, F1score: 0.6198\n",
      "Epoch [14/20], Loss: 0.6779, Accuracy: 0.7113, Sensitivity: 0.9117, Specificity: 0.6429, F1score: 0.6166\n",
      "Epoch [15/20], Loss: 0.6771, Accuracy: 0.7090, Sensitivity: 0.9218, Specificity: 0.6363, F1score: 0.6174\n",
      "Epoch [16/20], Loss: 0.6769, Accuracy: 0.7091, Sensitivity: 0.9219, Specificity: 0.6364, F1score: 0.6174\n",
      "Epoch [17/20], Loss: 0.6768, Accuracy: 0.7092, Sensitivity: 0.9213, Specificity: 0.6368, F1score: 0.6174\n",
      "Epoch [18/20], Loss: 0.6766, Accuracy: 0.7094, Sensitivity: 0.9207, Specificity: 0.6372, F1score: 0.6174\n",
      "Epoch [19/20], Loss: 0.6792, Accuracy: 0.7148, Sensitivity: 0.9061, Specificity: 0.6494, F1score: 0.6180\n",
      "Epoch [20/20], Loss: 0.6775, Accuracy: 0.7194, Sensitivity: 0.9014, Specificity: 0.6572, F1score: 0.6206\n"
     ]
    }
   ],
   "source": [
    "# Initialize your GAT model, optimizer, and loss function\n",
    "gat_model = GAT(input_dim=1, hidden_dim=256, output_dim=1, num_heads=4).to(device)  # Adjust dimensions and num_heads as needed\n",
    "gat_optimizer = optim.Adam(gat_model.parameters(), lr=0.01)\n",
    "weight = torch.tensor([4.0])  # Weight for positive class\n",
    "gat_criterion = nn.BCEWithLogitsLoss(pos_weight=weight).to(device)  # Binary classification loss\n",
    "\n",
    "# Training loop for GAT\n",
    "gat_model.train()\n",
    "num_epochs = 20  # Adjust as needed\n",
    "\n",
    "# Lists to store loss and accuracy values for plotting\n",
    "loss_curve = []\n",
    "accuracy_curve = []\n",
    "\n",
    "for epoch in range(num_epochs):\n",
    "    total_loss = 0\n",
    "    TP_train = 0\n",
    "    TN_train = 0\n",
    "    FP_train = 0\n",
    "    FN_train = 0\n",
    "    \n",
    "    for batch in train_loader:\n",
    "        batch = batch.to(device)\n",
    "        gat_optimizer.zero_grad()\n",
    "        out = gat_model(batch.x.float(), batch.edge_index)\n",
    "        loss = gat_criterion(out.squeeze(), batch.y.float())  # Squeeze to match the shapes\n",
    "        loss.backward()\n",
    "        gat_optimizer.step()\n",
    "        total_loss += loss.item()\n",
    "        \n",
    "        # Calculate accuracy for this batch\n",
    "        predicted = (out > 0).int()\n",
    "        element_wise_comparison = (predicted.squeeze() == batch.y)\n",
    "\n",
    "        # Calculate TP, TN, FP, FN\n",
    "        TP = torch.sum((predicted.squeeze() == 1) & (batch.y == 1)).item()\n",
    "        TN = torch.sum((predicted.squeeze() == 0) & (batch.y == 0)).item()\n",
    "        FP = torch.sum((predicted.squeeze() == 1) & (batch.y == 0)).item()\n",
    "        FN = torch.sum((predicted.squeeze() == 0) & (batch.y == 1)).item()\n",
    "        \n",
    "        TP_train += TP\n",
    "        TN_train += TN\n",
    "        FP_train += FP\n",
    "        FN_train += FN\n",
    "\n",
    "    average_loss = total_loss / len(train_loader)\n",
    "    train_accuracy = (TP_train + TN_train) / (TP_train + TN_train + FP_train + FN_train)\n",
    "    train_sensitivity = TP_train / (TP_train + FN_train)\n",
    "    train_specificity = TN_train / (TN_train + FP_train)\n",
    "    \n",
    "    # Calculate F1-Score for the whole test set\n",
    "    if TP_train == 0 and FP_train == 0:\n",
    "        train_precision = 0\n",
    "        train_f1_score = 0\n",
    "    else:\n",
    "        train_precision = TP_train / (TP_train + FP_train)\n",
    "        train_f1_score = 2 * (train_precision * train_sensitivity) / (train_precision + train_sensitivity)\n",
    "    \n",
    "    print(f'Epoch [{epoch+1}/{num_epochs}], Loss: {average_loss:.4f}, Accuracy: {train_accuracy:.4f}, Sensitivity: {train_sensitivity:.4f}, Specificity: {train_specificity:.4f}, F1score: {train_f1_score:.4f}')\n",
    "    \n",
    "    # Append loss and accuracy to the curves\n",
    "    loss_curve.append(average_loss)\n",
    "    accuracy_curve.append(train_accuracy)"
   ]
  },
  {
   "cell_type": "code",
   "execution_count": 9,
   "id": "97b48f58-0b33-444b-9227-b50d3f73ba56",
   "metadata": {
    "tags": []
   },
   "outputs": [
    {
     "name": "stdout",
     "output_type": "stream",
     "text": [
      "GAT: Test Accuracy: 69.39%\n",
      "Sensitivity (Recall): 0.7423\n",
      "Specificity: 0.6828\n",
      "F1-Score: 0.4752\n",
      "0.6938879985754985 0.7423212937576986 0.6827681837671165 0.47522989456011594\n"
     ]
    }
   ],
   "source": [
    "# Evaluation loop (on the test set) for GAT\n",
    "gat_model.eval()\n",
    "\n",
    "TP_test = 0\n",
    "TN_test = 0\n",
    "FP_test = 0\n",
    "FN_test = 0\n",
    "\n",
    "with torch.no_grad():\n",
    "    for batch in test_loader:\n",
    "        batch = batch.to(device)\n",
    "        out = gat_model(batch.x.float(), batch.edge_index)\n",
    "        predicted = (out > -0.1).int()  # Assuming a threshold of 0. Adjust as needed\n",
    "        element_wise_comparison = (predicted.squeeze() == batch.y)\n",
    "\n",
    "        # Calculate TP, TN, FP, FN\n",
    "        TP = torch.sum((predicted.squeeze() == 1) & (batch.y == 1)).item()\n",
    "        TN = torch.sum((predicted.squeeze() == 0) & (batch.y == 0)).item()\n",
    "        FP = torch.sum((predicted.squeeze() == 1) & (batch.y == 0)).item()\n",
    "        FN = torch.sum((predicted.squeeze() == 0) & (batch.y == 1)).item()\n",
    "        \n",
    "        TP_test += TP\n",
    "        TN_test += TN\n",
    "        FP_test += FP\n",
    "        FN_test += FN\n",
    "\n",
    "# Calculate Sensitivity (Recall)\n",
    "test_sensitivity = TP_test / (TP_test + FN_test)\n",
    "\n",
    "# Calculate Specificity\n",
    "test_specificity = TN_test / (TN_test + FP_test)\n",
    "\n",
    "# Calculate F1-Score for the whole test set\n",
    "test_precision = TP_test / (TP_test + FP_test)\n",
    "test_f1_score = 2 * (test_precision * test_sensitivity) / (test_precision + test_sensitivity)\n",
    "\n",
    "# Calculate Accuracy\n",
    "test_accuracy = (TP_test + TN_test) / (TP_test + TN_test + FP_test + FN_test)\n",
    "\n",
    "print(f'GAT: Test Accuracy: {test_accuracy * 100:.2f}%')\n",
    "print(f\"Sensitivity (Recall): {test_sensitivity:.4f}\")\n",
    "print(f\"Specificity: {test_specificity:.4f}\")\n",
    "print(f\"F1-Score: {test_f1_score:.4f}\")\n",
    "\n",
    "print(test_accuracy, test_sensitivity, test_specificity, test_f1_score)"
   ]
  },
  {
   "cell_type": "code",
   "execution_count": 6,
   "id": "3c072c17-bfd8-4e73-9b44-63a4c239ff54",
   "metadata": {},
   "outputs": [],
   "source": [
    "# Define your GraphSAGE model\n",
    "class GraphSAGE(nn.Module):\n",
    "    def __init__(self, input_dim, hidden_dim, output_dim, num_samples):\n",
    "        super(GraphSAGE, self).__init__()\n",
    "        self.conv1 = SAGEConv(input_dim, hidden_dim, aggregator='mean', neighbor_sampler='random', num_samples=num_samples)\n",
    "        self.conv2 = SAGEConv(hidden_dim, output_dim, aggregator='mean', neighbor_sampler='random', num_samples=num_samples)\n",
    "\n",
    "    def forward(self, x, edge_index):\n",
    "        x = self.conv1(x, edge_index)\n",
    "        x = torch.relu(x)\n",
    "        x = self.conv2(x, edge_index)\n",
    "        return x"
   ]
  },
  {
   "cell_type": "code",
   "execution_count": 7,
   "id": "e4195a70-3e30-4cbf-bdf3-4622c70cbe95",
   "metadata": {},
   "outputs": [
    {
     "name": "stdout",
     "output_type": "stream",
     "text": [
      "Epoch [1/20], Loss: 0.1277, Accuracy: 0.9613, Sensitivity: 0.8989, Specificity: 0.9826, F1score: 0.9220\n",
      "Epoch [2/20], Loss: 0.0037, Accuracy: 0.9997, Sensitivity: 0.9992, Specificity: 0.9998, F1score: 0.9993\n",
      "Epoch [3/20], Loss: 0.0033, Accuracy: 0.9997, Sensitivity: 0.9992, Specificity: 0.9998, F1score: 0.9993\n",
      "Epoch [4/20], Loss: 0.0032, Accuracy: 0.9997, Sensitivity: 0.9992, Specificity: 0.9998, F1score: 0.9993\n",
      "Epoch [5/20], Loss: 0.0031, Accuracy: 0.9997, Sensitivity: 0.9992, Specificity: 0.9998, F1score: 0.9993\n",
      "Epoch [6/20], Loss: 0.0031, Accuracy: 0.9997, Sensitivity: 0.9992, Specificity: 0.9998, F1score: 0.9993\n",
      "Epoch [7/20], Loss: 0.0031, Accuracy: 0.9997, Sensitivity: 0.9992, Specificity: 0.9998, F1score: 0.9993\n",
      "Epoch [8/20], Loss: 0.0031, Accuracy: 0.9997, Sensitivity: 0.9992, Specificity: 0.9998, F1score: 0.9993\n",
      "Epoch [9/20], Loss: 0.0031, Accuracy: 0.9997, Sensitivity: 0.9992, Specificity: 0.9998, F1score: 0.9993\n",
      "Epoch [10/20], Loss: 0.0031, Accuracy: 0.9997, Sensitivity: 0.9992, Specificity: 0.9998, F1score: 0.9993\n",
      "Epoch [11/20], Loss: 0.0031, Accuracy: 0.9997, Sensitivity: 0.9992, Specificity: 0.9998, F1score: 0.9993\n",
      "Epoch [12/20], Loss: 0.0031, Accuracy: 0.9997, Sensitivity: 0.9992, Specificity: 0.9998, F1score: 0.9993\n",
      "Epoch [13/20], Loss: 0.0031, Accuracy: 0.9997, Sensitivity: 0.9992, Specificity: 0.9998, F1score: 0.9993\n",
      "Epoch [14/20], Loss: 0.0031, Accuracy: 0.9997, Sensitivity: 0.9992, Specificity: 0.9998, F1score: 0.9993\n",
      "Epoch [15/20], Loss: 0.0031, Accuracy: 0.9997, Sensitivity: 0.9992, Specificity: 0.9998, F1score: 0.9993\n",
      "Epoch [16/20], Loss: 0.0031, Accuracy: 0.9997, Sensitivity: 0.9992, Specificity: 0.9998, F1score: 0.9993\n",
      "Epoch [17/20], Loss: 0.0031, Accuracy: 0.9997, Sensitivity: 0.9992, Specificity: 0.9998, F1score: 0.9993\n",
      "Epoch [18/20], Loss: 0.0031, Accuracy: 0.9997, Sensitivity: 0.9992, Specificity: 0.9998, F1score: 0.9993\n",
      "Epoch [19/20], Loss: 0.0031, Accuracy: 0.9997, Sensitivity: 0.9992, Specificity: 0.9998, F1score: 0.9993\n",
      "Epoch [20/20], Loss: 0.0031, Accuracy: 0.9997, Sensitivity: 0.9992, Specificity: 0.9998, F1score: 0.9993\n"
     ]
    }
   ],
   "source": [
    "# Initialize your GraphSAGE model, optimizer, and loss function\n",
    "graphsage_model = GraphSAGE(input_dim=1, hidden_dim=16, output_dim=1, num_samples=1).to(device)  # Adjust dimensions and num_samples as needed\n",
    "graphsage_optimizer = optim.Adam(graphsage_model.parameters(), lr=0.01)\n",
    "weight = torch.tensor([1.0])\n",
    "graphsage_criterion = nn.BCEWithLogitsLoss(pos_weight=weight).to(device)  # Binary classification loss\n",
    "\n",
    "\n",
    "# Training loop for GraphSAGE\n",
    "graphsage_model.train()\n",
    "num_epochs = 20  # Adjust as needed\n",
    "\n",
    "# Lists to store loss and accuracy values for plotting\n",
    "loss_curve = []\n",
    "accuracy_curve = []\n",
    "\n",
    "for epoch in range(num_epochs):\n",
    "    total_loss = 0\n",
    "    TP_train = 0\n",
    "    TN_train = 0\n",
    "    FP_train = 0\n",
    "    FN_train = 0\n",
    "    \n",
    "    for batch in train_loader:\n",
    "        batch = batch.to(device)\n",
    "        graphsage_optimizer.zero_grad()\n",
    "        out = graphsage_model(batch.x.float(), batch.edge_index)\n",
    "        loss = graphsage_criterion(out.squeeze(), batch.y.float())  # Squeeze to match the shapes\n",
    "        loss.backward()\n",
    "        graphsage_optimizer.step()\n",
    "        total_loss += loss.item()\n",
    "        \n",
    "        # Calculate accuracy for this batch\n",
    "        predicted = (out > 0).int()\n",
    "        element_wise_comparison = (predicted.squeeze() == batch.y)\n",
    "\n",
    "        # Calculate TP, TN, FP, FN\n",
    "        TP = torch.sum((predicted.squeeze() == 1) & (batch.y == 1)).item()\n",
    "        TN = torch.sum((predicted.squeeze() == 0) & (batch.y == 0)).item()\n",
    "        FP = torch.sum((predicted.squeeze() == 1) & (batch.y == 0)).item()\n",
    "        FN = torch.sum((predicted.squeeze() == 0) & (batch.y == 1)).item()\n",
    "        \n",
    "        TP_train += TP\n",
    "        TN_train += TN\n",
    "        FP_train += FP\n",
    "        FN_train += FN\n",
    "\n",
    "    average_loss = total_loss / len(train_loader)\n",
    "    train_accuracy = (TP_train + TN_train) / (TP_train + TN_train + FP_train + FN_train)\n",
    "    train_sensitivity = TP_train / (TP_train + FN_train)\n",
    "    train_specificity = TN_train / (TN_train + FP_train)\n",
    "    \n",
    "    # Calculate F1-Score for the whole test set\n",
    "    if TP_train == 0 and FP_train == 0:\n",
    "        train_precision = 0\n",
    "        train_f1_score = 0\n",
    "    else:\n",
    "        train_precision = TP_train / (TP_train + FP_train)\n",
    "        train_f1_score = 2 * (train_precision * train_sensitivity) / (train_precision + train_sensitivity)\n",
    "    \n",
    "    print(f'Epoch [{epoch+1}/{num_epochs}], Loss: {average_loss:.4f}, Accuracy: {train_accuracy:.4f}, Sensitivity: {train_sensitivity:.4f}, Specificity: {train_specificity:.4f}, F1score: {train_f1_score:.4f}')\n",
    "    \n",
    "    # Append loss and accuracy to the curves\n",
    "    loss_curve.append(average_loss)\n",
    "    accuracy_curve.append(train_accuracy)"
   ]
  },
  {
   "cell_type": "code",
   "execution_count": 9,
   "id": "2347297a-2639-45d4-a843-c93b5da21a27",
   "metadata": {},
   "outputs": [
    {
     "name": "stdout",
     "output_type": "stream",
     "text": [
      "GAT: Test Accuracy: 99.97%\n",
      "Sensitivity (Recall): 0.9996\n",
      "Specificity: 0.9998\n",
      "F1-Score: 0.9993\n",
      "0.9997403252611586 0.9996423888425319 0.9997628105129679 0.9993048797441957\n"
     ]
    }
   ],
   "source": [
    "# Evaluation loop (on the test set) for GraphSAGE\n",
    "graphsage_model.eval()\n",
    "TP_test = 0\n",
    "TN_test = 0\n",
    "FP_test = 0\n",
    "FN_test = 0\n",
    "\n",
    "with torch.no_grad():\n",
    "    for batch in test_loader:\n",
    "        batch = batch.to(device)\n",
    "        out = graphsage_model(batch.x.float(), batch.edge_index)\n",
    "        predicted = (out > -0.1).int()  # Assuming a threshold of 0. Adjust as needed\n",
    "        element_wise_comparison = (predicted.squeeze() == batch.y)\n",
    "\n",
    "        # Calculate TP, TN, FP, FN\n",
    "        TP = torch.sum((predicted.squeeze() == 1) & (batch.y == 1)).item()\n",
    "        TN = torch.sum((predicted.squeeze() == 0) & (batch.y == 0)).item()\n",
    "        FP = torch.sum((predicted.squeeze() == 1) & (batch.y == 0)).item()\n",
    "        FN = torch.sum((predicted.squeeze() == 0) & (batch.y == 1)).item()\n",
    "        \n",
    "        TP_test += TP\n",
    "        TN_test += TN\n",
    "        FP_test += FP\n",
    "        FN_test += FN\n",
    "\n",
    "# Calculate Sensitivity (Recall)\n",
    "test_sensitivity = TP_test / (TP_test + FN_test)\n",
    "\n",
    "# Calculate Specificity\n",
    "test_specificity = TN_test / (TN_test + FP_test)\n",
    "\n",
    "# Calculate F1-Score for the whole test set\n",
    "test_precision = TP_test / (TP_test + FP_test)\n",
    "test_f1_score = 2 * (test_precision * test_sensitivity) / (test_precision + test_sensitivity)\n",
    "\n",
    "# Calculate Accuracy\n",
    "test_accuracy = (TP_test + TN_test) / (TP_test + TN_test + FP_test + FN_test)\n",
    "\n",
    "print(f'GAT: Test Accuracy: {test_accuracy * 100:.2f}%')\n",
    "print(f\"Sensitivity (Recall): {test_sensitivity:.4f}\")\n",
    "print(f\"Specificity: {test_specificity:.4f}\")\n",
    "print(f\"F1-Score: {test_f1_score:.4f}\")\n",
    "\n",
    "print(test_accuracy, test_sensitivity, test_specificity, test_f1_score)"
   ]
  },
  {
   "cell_type": "code",
   "execution_count": null,
   "id": "32226da1-0bc3-482a-bd4c-57e786b652ba",
   "metadata": {},
   "outputs": [],
   "source": []
  }
 ],
 "metadata": {
  "availableInstances": [
   {
    "_defaultOrder": 0,
    "_isFastLaunch": true,
    "category": "General purpose",
    "gpuNum": 0,
    "hideHardwareSpecs": false,
    "memoryGiB": 4,
    "name": "ml.t3.medium",
    "vcpuNum": 2
   },
   {
    "_defaultOrder": 1,
    "_isFastLaunch": false,
    "category": "General purpose",
    "gpuNum": 0,
    "hideHardwareSpecs": false,
    "memoryGiB": 8,
    "name": "ml.t3.large",
    "vcpuNum": 2
   },
   {
    "_defaultOrder": 2,
    "_isFastLaunch": false,
    "category": "General purpose",
    "gpuNum": 0,
    "hideHardwareSpecs": false,
    "memoryGiB": 16,
    "name": "ml.t3.xlarge",
    "vcpuNum": 4
   },
   {
    "_defaultOrder": 3,
    "_isFastLaunch": false,
    "category": "General purpose",
    "gpuNum": 0,
    "hideHardwareSpecs": false,
    "memoryGiB": 32,
    "name": "ml.t3.2xlarge",
    "vcpuNum": 8
   },
   {
    "_defaultOrder": 4,
    "_isFastLaunch": true,
    "category": "General purpose",
    "gpuNum": 0,
    "hideHardwareSpecs": false,
    "memoryGiB": 8,
    "name": "ml.m5.large",
    "vcpuNum": 2
   },
   {
    "_defaultOrder": 5,
    "_isFastLaunch": false,
    "category": "General purpose",
    "gpuNum": 0,
    "hideHardwareSpecs": false,
    "memoryGiB": 16,
    "name": "ml.m5.xlarge",
    "vcpuNum": 4
   },
   {
    "_defaultOrder": 6,
    "_isFastLaunch": false,
    "category": "General purpose",
    "gpuNum": 0,
    "hideHardwareSpecs": false,
    "memoryGiB": 32,
    "name": "ml.m5.2xlarge",
    "vcpuNum": 8
   },
   {
    "_defaultOrder": 7,
    "_isFastLaunch": false,
    "category": "General purpose",
    "gpuNum": 0,
    "hideHardwareSpecs": false,
    "memoryGiB": 64,
    "name": "ml.m5.4xlarge",
    "vcpuNum": 16
   },
   {
    "_defaultOrder": 8,
    "_isFastLaunch": false,
    "category": "General purpose",
    "gpuNum": 0,
    "hideHardwareSpecs": false,
    "memoryGiB": 128,
    "name": "ml.m5.8xlarge",
    "vcpuNum": 32
   },
   {
    "_defaultOrder": 9,
    "_isFastLaunch": false,
    "category": "General purpose",
    "gpuNum": 0,
    "hideHardwareSpecs": false,
    "memoryGiB": 192,
    "name": "ml.m5.12xlarge",
    "vcpuNum": 48
   },
   {
    "_defaultOrder": 10,
    "_isFastLaunch": false,
    "category": "General purpose",
    "gpuNum": 0,
    "hideHardwareSpecs": false,
    "memoryGiB": 256,
    "name": "ml.m5.16xlarge",
    "vcpuNum": 64
   },
   {
    "_defaultOrder": 11,
    "_isFastLaunch": false,
    "category": "General purpose",
    "gpuNum": 0,
    "hideHardwareSpecs": false,
    "memoryGiB": 384,
    "name": "ml.m5.24xlarge",
    "vcpuNum": 96
   },
   {
    "_defaultOrder": 12,
    "_isFastLaunch": false,
    "category": "General purpose",
    "gpuNum": 0,
    "hideHardwareSpecs": false,
    "memoryGiB": 8,
    "name": "ml.m5d.large",
    "vcpuNum": 2
   },
   {
    "_defaultOrder": 13,
    "_isFastLaunch": false,
    "category": "General purpose",
    "gpuNum": 0,
    "hideHardwareSpecs": false,
    "memoryGiB": 16,
    "name": "ml.m5d.xlarge",
    "vcpuNum": 4
   },
   {
    "_defaultOrder": 14,
    "_isFastLaunch": false,
    "category": "General purpose",
    "gpuNum": 0,
    "hideHardwareSpecs": false,
    "memoryGiB": 32,
    "name": "ml.m5d.2xlarge",
    "vcpuNum": 8
   },
   {
    "_defaultOrder": 15,
    "_isFastLaunch": false,
    "category": "General purpose",
    "gpuNum": 0,
    "hideHardwareSpecs": false,
    "memoryGiB": 64,
    "name": "ml.m5d.4xlarge",
    "vcpuNum": 16
   },
   {
    "_defaultOrder": 16,
    "_isFastLaunch": false,
    "category": "General purpose",
    "gpuNum": 0,
    "hideHardwareSpecs": false,
    "memoryGiB": 128,
    "name": "ml.m5d.8xlarge",
    "vcpuNum": 32
   },
   {
    "_defaultOrder": 17,
    "_isFastLaunch": false,
    "category": "General purpose",
    "gpuNum": 0,
    "hideHardwareSpecs": false,
    "memoryGiB": 192,
    "name": "ml.m5d.12xlarge",
    "vcpuNum": 48
   },
   {
    "_defaultOrder": 18,
    "_isFastLaunch": false,
    "category": "General purpose",
    "gpuNum": 0,
    "hideHardwareSpecs": false,
    "memoryGiB": 256,
    "name": "ml.m5d.16xlarge",
    "vcpuNum": 64
   },
   {
    "_defaultOrder": 19,
    "_isFastLaunch": false,
    "category": "General purpose",
    "gpuNum": 0,
    "hideHardwareSpecs": false,
    "memoryGiB": 384,
    "name": "ml.m5d.24xlarge",
    "vcpuNum": 96
   },
   {
    "_defaultOrder": 20,
    "_isFastLaunch": false,
    "category": "General purpose",
    "gpuNum": 0,
    "hideHardwareSpecs": true,
    "memoryGiB": 0,
    "name": "ml.geospatial.interactive",
    "supportedImageNames": [
     "sagemaker-geospatial-v1-0"
    ],
    "vcpuNum": 0
   },
   {
    "_defaultOrder": 21,
    "_isFastLaunch": true,
    "category": "Compute optimized",
    "gpuNum": 0,
    "hideHardwareSpecs": false,
    "memoryGiB": 4,
    "name": "ml.c5.large",
    "vcpuNum": 2
   },
   {
    "_defaultOrder": 22,
    "_isFastLaunch": false,
    "category": "Compute optimized",
    "gpuNum": 0,
    "hideHardwareSpecs": false,
    "memoryGiB": 8,
    "name": "ml.c5.xlarge",
    "vcpuNum": 4
   },
   {
    "_defaultOrder": 23,
    "_isFastLaunch": false,
    "category": "Compute optimized",
    "gpuNum": 0,
    "hideHardwareSpecs": false,
    "memoryGiB": 16,
    "name": "ml.c5.2xlarge",
    "vcpuNum": 8
   },
   {
    "_defaultOrder": 24,
    "_isFastLaunch": false,
    "category": "Compute optimized",
    "gpuNum": 0,
    "hideHardwareSpecs": false,
    "memoryGiB": 32,
    "name": "ml.c5.4xlarge",
    "vcpuNum": 16
   },
   {
    "_defaultOrder": 25,
    "_isFastLaunch": false,
    "category": "Compute optimized",
    "gpuNum": 0,
    "hideHardwareSpecs": false,
    "memoryGiB": 72,
    "name": "ml.c5.9xlarge",
    "vcpuNum": 36
   },
   {
    "_defaultOrder": 26,
    "_isFastLaunch": false,
    "category": "Compute optimized",
    "gpuNum": 0,
    "hideHardwareSpecs": false,
    "memoryGiB": 96,
    "name": "ml.c5.12xlarge",
    "vcpuNum": 48
   },
   {
    "_defaultOrder": 27,
    "_isFastLaunch": false,
    "category": "Compute optimized",
    "gpuNum": 0,
    "hideHardwareSpecs": false,
    "memoryGiB": 144,
    "name": "ml.c5.18xlarge",
    "vcpuNum": 72
   },
   {
    "_defaultOrder": 28,
    "_isFastLaunch": false,
    "category": "Compute optimized",
    "gpuNum": 0,
    "hideHardwareSpecs": false,
    "memoryGiB": 192,
    "name": "ml.c5.24xlarge",
    "vcpuNum": 96
   },
   {
    "_defaultOrder": 29,
    "_isFastLaunch": true,
    "category": "Accelerated computing",
    "gpuNum": 1,
    "hideHardwareSpecs": false,
    "memoryGiB": 16,
    "name": "ml.g4dn.xlarge",
    "vcpuNum": 4
   },
   {
    "_defaultOrder": 30,
    "_isFastLaunch": false,
    "category": "Accelerated computing",
    "gpuNum": 1,
    "hideHardwareSpecs": false,
    "memoryGiB": 32,
    "name": "ml.g4dn.2xlarge",
    "vcpuNum": 8
   },
   {
    "_defaultOrder": 31,
    "_isFastLaunch": false,
    "category": "Accelerated computing",
    "gpuNum": 1,
    "hideHardwareSpecs": false,
    "memoryGiB": 64,
    "name": "ml.g4dn.4xlarge",
    "vcpuNum": 16
   },
   {
    "_defaultOrder": 32,
    "_isFastLaunch": false,
    "category": "Accelerated computing",
    "gpuNum": 1,
    "hideHardwareSpecs": false,
    "memoryGiB": 128,
    "name": "ml.g4dn.8xlarge",
    "vcpuNum": 32
   },
   {
    "_defaultOrder": 33,
    "_isFastLaunch": false,
    "category": "Accelerated computing",
    "gpuNum": 4,
    "hideHardwareSpecs": false,
    "memoryGiB": 192,
    "name": "ml.g4dn.12xlarge",
    "vcpuNum": 48
   },
   {
    "_defaultOrder": 34,
    "_isFastLaunch": false,
    "category": "Accelerated computing",
    "gpuNum": 1,
    "hideHardwareSpecs": false,
    "memoryGiB": 256,
    "name": "ml.g4dn.16xlarge",
    "vcpuNum": 64
   },
   {
    "_defaultOrder": 35,
    "_isFastLaunch": false,
    "category": "Accelerated computing",
    "gpuNum": 1,
    "hideHardwareSpecs": false,
    "memoryGiB": 61,
    "name": "ml.p3.2xlarge",
    "vcpuNum": 8
   },
   {
    "_defaultOrder": 36,
    "_isFastLaunch": false,
    "category": "Accelerated computing",
    "gpuNum": 4,
    "hideHardwareSpecs": false,
    "memoryGiB": 244,
    "name": "ml.p3.8xlarge",
    "vcpuNum": 32
   },
   {
    "_defaultOrder": 37,
    "_isFastLaunch": false,
    "category": "Accelerated computing",
    "gpuNum": 8,
    "hideHardwareSpecs": false,
    "memoryGiB": 488,
    "name": "ml.p3.16xlarge",
    "vcpuNum": 64
   },
   {
    "_defaultOrder": 38,
    "_isFastLaunch": false,
    "category": "Accelerated computing",
    "gpuNum": 8,
    "hideHardwareSpecs": false,
    "memoryGiB": 768,
    "name": "ml.p3dn.24xlarge",
    "vcpuNum": 96
   },
   {
    "_defaultOrder": 39,
    "_isFastLaunch": false,
    "category": "Memory Optimized",
    "gpuNum": 0,
    "hideHardwareSpecs": false,
    "memoryGiB": 16,
    "name": "ml.r5.large",
    "vcpuNum": 2
   },
   {
    "_defaultOrder": 40,
    "_isFastLaunch": false,
    "category": "Memory Optimized",
    "gpuNum": 0,
    "hideHardwareSpecs": false,
    "memoryGiB": 32,
    "name": "ml.r5.xlarge",
    "vcpuNum": 4
   },
   {
    "_defaultOrder": 41,
    "_isFastLaunch": false,
    "category": "Memory Optimized",
    "gpuNum": 0,
    "hideHardwareSpecs": false,
    "memoryGiB": 64,
    "name": "ml.r5.2xlarge",
    "vcpuNum": 8
   },
   {
    "_defaultOrder": 42,
    "_isFastLaunch": false,
    "category": "Memory Optimized",
    "gpuNum": 0,
    "hideHardwareSpecs": false,
    "memoryGiB": 128,
    "name": "ml.r5.4xlarge",
    "vcpuNum": 16
   },
   {
    "_defaultOrder": 43,
    "_isFastLaunch": false,
    "category": "Memory Optimized",
    "gpuNum": 0,
    "hideHardwareSpecs": false,
    "memoryGiB": 256,
    "name": "ml.r5.8xlarge",
    "vcpuNum": 32
   },
   {
    "_defaultOrder": 44,
    "_isFastLaunch": false,
    "category": "Memory Optimized",
    "gpuNum": 0,
    "hideHardwareSpecs": false,
    "memoryGiB": 384,
    "name": "ml.r5.12xlarge",
    "vcpuNum": 48
   },
   {
    "_defaultOrder": 45,
    "_isFastLaunch": false,
    "category": "Memory Optimized",
    "gpuNum": 0,
    "hideHardwareSpecs": false,
    "memoryGiB": 512,
    "name": "ml.r5.16xlarge",
    "vcpuNum": 64
   },
   {
    "_defaultOrder": 46,
    "_isFastLaunch": false,
    "category": "Memory Optimized",
    "gpuNum": 0,
    "hideHardwareSpecs": false,
    "memoryGiB": 768,
    "name": "ml.r5.24xlarge",
    "vcpuNum": 96
   },
   {
    "_defaultOrder": 47,
    "_isFastLaunch": false,
    "category": "Accelerated computing",
    "gpuNum": 1,
    "hideHardwareSpecs": false,
    "memoryGiB": 16,
    "name": "ml.g5.xlarge",
    "vcpuNum": 4
   },
   {
    "_defaultOrder": 48,
    "_isFastLaunch": false,
    "category": "Accelerated computing",
    "gpuNum": 1,
    "hideHardwareSpecs": false,
    "memoryGiB": 32,
    "name": "ml.g5.2xlarge",
    "vcpuNum": 8
   },
   {
    "_defaultOrder": 49,
    "_isFastLaunch": false,
    "category": "Accelerated computing",
    "gpuNum": 1,
    "hideHardwareSpecs": false,
    "memoryGiB": 64,
    "name": "ml.g5.4xlarge",
    "vcpuNum": 16
   },
   {
    "_defaultOrder": 50,
    "_isFastLaunch": false,
    "category": "Accelerated computing",
    "gpuNum": 1,
    "hideHardwareSpecs": false,
    "memoryGiB": 128,
    "name": "ml.g5.8xlarge",
    "vcpuNum": 32
   },
   {
    "_defaultOrder": 51,
    "_isFastLaunch": false,
    "category": "Accelerated computing",
    "gpuNum": 1,
    "hideHardwareSpecs": false,
    "memoryGiB": 256,
    "name": "ml.g5.16xlarge",
    "vcpuNum": 64
   },
   {
    "_defaultOrder": 52,
    "_isFastLaunch": false,
    "category": "Accelerated computing",
    "gpuNum": 4,
    "hideHardwareSpecs": false,
    "memoryGiB": 192,
    "name": "ml.g5.12xlarge",
    "vcpuNum": 48
   },
   {
    "_defaultOrder": 53,
    "_isFastLaunch": false,
    "category": "Accelerated computing",
    "gpuNum": 4,
    "hideHardwareSpecs": false,
    "memoryGiB": 384,
    "name": "ml.g5.24xlarge",
    "vcpuNum": 96
   },
   {
    "_defaultOrder": 54,
    "_isFastLaunch": false,
    "category": "Accelerated computing",
    "gpuNum": 8,
    "hideHardwareSpecs": false,
    "memoryGiB": 768,
    "name": "ml.g5.48xlarge",
    "vcpuNum": 192
   },
   {
    "_defaultOrder": 55,
    "_isFastLaunch": false,
    "category": "Accelerated computing",
    "gpuNum": 8,
    "hideHardwareSpecs": false,
    "memoryGiB": 1152,
    "name": "ml.p4d.24xlarge",
    "vcpuNum": 96
   },
   {
    "_defaultOrder": 56,
    "_isFastLaunch": false,
    "category": "Accelerated computing",
    "gpuNum": 8,
    "hideHardwareSpecs": false,
    "memoryGiB": 1152,
    "name": "ml.p4de.24xlarge",
    "vcpuNum": 96
   }
  ],
  "instance_type": "ml.g4dn.xlarge",
  "kernelspec": {
   "display_name": "Python 3 (PyTorch 2.0.0 Python 3.10 GPU Optimized)",
   "language": "python",
   "name": "python3__SAGEMAKER_INTERNAL__arn:aws:sagemaker:eu-west-2:712779665605:image/pytorch-2.0.0-gpu-py310"
  },
  "language_info": {
   "codemirror_mode": {
    "name": "ipython",
    "version": 3
   },
   "file_extension": ".py",
   "mimetype": "text/x-python",
   "name": "python",
   "nbconvert_exporter": "python",
   "pygments_lexer": "ipython3",
   "version": "3.10.8"
  }
 },
 "nbformat": 4,
 "nbformat_minor": 5
}
