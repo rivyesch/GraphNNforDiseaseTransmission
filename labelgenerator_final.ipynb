{
 "cells": [
  {
   "cell_type": "code",
   "execution_count": 4,
   "id": "5f61bbdc-ca44-447a-b654-1223ae67dea3",
   "metadata": {
    "tags": []
   },
   "outputs": [
    {
     "name": "stdout",
     "output_type": "stream",
     "text": [
      "Collecting mysql-connector\n",
      "  Downloading mysql-connector-2.2.9.tar.gz (11.9 MB)\n",
      "\u001b[2K     \u001b[90m━━━━━━━━━━━━━━━━━━━━━━━━━━━━━━━━━━━━━━━━\u001b[0m \u001b[32m11.9/11.9 MB\u001b[0m \u001b[31m42.4 MB/s\u001b[0m eta \u001b[36m0:00:00\u001b[0m00:01\u001b[0m0:01\u001b[0m\n",
      "\u001b[?25h  Preparing metadata (setup.py) ... \u001b[?25ldone\n",
      "\u001b[?25hBuilding wheels for collected packages: mysql-connector\n",
      "  Building wheel for mysql-connector (setup.py) ... \u001b[?25ldone\n",
      "\u001b[?25h  Created wheel for mysql-connector: filename=mysql_connector-2.2.9-cp37-cp37m-linux_x86_64.whl size=247948 sha256=529b00494d415075dfebaf81795d3dc5a798c93f9eeae0d09aca65f2b631d12b\n",
      "  Stored in directory: /root/.cache/pip/wheels/42/2f/c3/692fc7fc1f0d8c06b9175d94f0fc30f4f92348f5df5af1b8b7\n",
      "Successfully built mysql-connector\n",
      "\u001b[33mDEPRECATION: pyodbc 4.0.0-unsupported has a non-standard version number. pip 23.3 will enforce this behaviour change. A possible replacement is to upgrade to a newer version of pyodbc or contact the author to suggest that they release a version with a conforming version number. Discussion can be found at https://github.com/pypa/pip/issues/12063\u001b[0m\u001b[33m\n",
      "\u001b[0mInstalling collected packages: mysql-connector\n",
      "Successfully installed mysql-connector-2.2.9\n",
      "\u001b[33mWARNING: Running pip as the 'root' user can result in broken permissions and conflicting behaviour with the system package manager. It is recommended to use a virtual environment instead: https://pip.pypa.io/warnings/venv\u001b[0m\u001b[33m\n",
      "\u001b[0mNote: you may need to restart the kernel to use updated packages.\n"
     ]
    }
   ],
   "source": [
    "# pip install mysql-connector"
   ]
  },
  {
   "cell_type": "code",
   "execution_count": 2,
   "id": "6172471b-c45c-47f0-85fc-bd83af841f2c",
   "metadata": {
    "tags": []
   },
   "outputs": [],
   "source": [
    "import numpy as np\n",
    "import pandas as pd\n",
    "import mysql.connector"
   ]
  },
  {
   "cell_type": "code",
   "execution_count": 3,
   "id": "58867b3a-71e3-4280-8bae-1baf1415cde5",
   "metadata": {
    "tags": []
   },
   "outputs": [],
   "source": [
    "# Database connection parameters\n",
    "db_config = {\n",
    "    'host': 'proxx-rtls-cv-prototype.cxg1ksdtmfbm.eu-west-2.rds.amazonaws.com',\n",
    "    'user': 'riv',\n",
    "    'password': 'Call me Ishmae1,',\n",
    "    'database': 'disease_transmission_simulation',\n",
    "    'port': 3306\n",
    "}"
   ]
  },
  {
   "cell_type": "code",
   "execution_count": 4,
   "id": "d9c84336-9d11-4659-aedf-67a689a92aa4",
   "metadata": {
    "tags": []
   },
   "outputs": [
    {
     "name": "stdout",
     "output_type": "stream",
     "text": [
      "Connection is open.\n"
     ]
    }
   ],
   "source": [
    "# Connect to the database\n",
    "conn = mysql.connector.connect(**db_config)\n",
    "\n",
    "# Check if the connection is open\n",
    "if conn.is_connected():\n",
    "    print(\"Connection is open.\")\n",
    "else:\n",
    "    print(\"Connection is closed.\")"
   ]
  },
  {
   "cell_type": "code",
   "execution_count": 5,
   "id": "295ebb7c-e33e-41eb-895e-dd03e0aa3e94",
   "metadata": {
    "tags": []
   },
   "outputs": [
    {
     "name": "stdout",
     "output_type": "stream",
     "text": [
      "Person ID: 1, Data: {'infection_status': 0, 'incubation_period': 0}\n",
      "Person ID: 2, Data: {'infection_status': 0, 'incubation_period': 0}\n",
      "Person ID: 3, Data: {'infection_status': 0, 'incubation_period': 0}\n",
      "Person ID: 4, Data: {'infection_status': 0, 'incubation_period': 0}\n",
      "Person ID: 5, Data: {'infection_status': 0, 'incubation_period': 0}\n",
      "Person ID: 6, Data: {'infection_status': 0, 'incubation_period': 0}\n",
      "Person ID: 7, Data: {'infection_status': 0, 'incubation_period': 0}\n",
      "Person ID: 8, Data: {'infection_status': 0, 'incubation_period': 0}\n",
      "Person ID: 9, Data: {'infection_status': 0, 'incubation_period': 0}\n",
      "Person ID: 10, Data: {'infection_status': 0, 'incubation_period': 0}\n"
     ]
    }
   ],
   "source": [
    "N = 468  # Total number of individuals\n",
    "\n",
    "# Create the dictionary to store person data\n",
    "people_dict = {}\n",
    "for person_id in range(1, N+1):\n",
    "    people_dict[person_id] = {\n",
    "        'infection_status': 0,\n",
    "        'incubation_period': 0\n",
    "    }\n",
    "\n",
    "# Print the first few entries of the dictionary\n",
    "for person_id in range(1, 11):  # Print the first 10 entries\n",
    "    print(f\"Person ID: {person_id}, Data: {people_dict[person_id]}\")"
   ]
  },
  {
   "cell_type": "code",
   "execution_count": 6,
   "id": "4111c659-48d2-4c7b-a6de-b5fe18ad87ed",
   "metadata": {
    "tags": []
   },
   "outputs": [
    {
     "name": "stdout",
     "output_type": "stream",
     "text": [
      "First person that has been infected is person id  [109 441 419 137 196]\n"
     ]
    }
   ],
   "source": [
    "seed_value = 112  # You can choose any seed value\n",
    "np.random.seed(seed_value)\n",
    "\n",
    "# Create initial infection status (0: susceptible, 1: infected)\n",
    "initial_infected_id = np.random.choice(N, size=5, replace=False)\n",
    "print(\"First person that has been infected is person id \", initial_infected_id)"
   ]
  },
  {
   "cell_type": "code",
   "execution_count": 7,
   "id": "4739160c-fd74-46e9-a30f-eedf3a52cbe5",
   "metadata": {
    "tags": []
   },
   "outputs": [
    {
     "name": "stdout",
     "output_type": "stream",
     "text": [
      "[1486 1621 1800 1907 1172]\n"
     ]
    }
   ],
   "source": [
    "seed_value = 19\n",
    "np.random.seed(seed_value)\n",
    "\n",
    "mean = 1440\n",
    "std_dev = 576\n",
    "# mean = 20\n",
    "# std_dev = 2\n",
    "\n",
    "# Number of random numbers to generate\n",
    "num_random_numbers = 5\n",
    "\n",
    "# Generate an array of random integers with the specified mean and standard deviation\n",
    "recovery_times = np.random.randint(mean - std_dev, mean + std_dev + 1, num_random_numbers)\n",
    "print(recovery_times)\n"
   ]
  },
  {
   "cell_type": "code",
   "execution_count": 8,
   "id": "dc6c0f08-ff48-4a93-ba3f-c9da94094aeb",
   "metadata": {
    "tags": []
   },
   "outputs": [
    {
     "name": "stdout",
     "output_type": "stream",
     "text": [
      "[(109, {'infection_status': 1, 'incubation_period': 1486}), (137, {'infection_status': 1, 'incubation_period': 1907}), (196, {'infection_status': 1, 'incubation_period': 1172}), (419, {'infection_status': 1, 'incubation_period': 1800}), (441, {'infection_status': 1, 'incubation_period': 1621})]\n"
     ]
    }
   ],
   "source": [
    "# Initial infection\n",
    "# Update infection status for each ID\n",
    "for person_id in initial_infected_id:\n",
    "    if person_id in people_dict:\n",
    "        people_dict[person_id]['infection_status'] = 1\n",
    "        \n",
    "\n",
    "for person_id, recovery_time in zip(initial_infected_id, recovery_times):\n",
    "    if person_id in people_dict:\n",
    "        people_dict[person_id]['incubation_period'] = recovery_time\n",
    "        \n",
    "# print([person_id for person_id, data in people_dict.items() if data['infection_status'] == 1])\n",
    "people_with_infection = [(person_id, data) for person_id, data in people_dict.items() if data['infection_status'] == 1]\n",
    "print(people_with_infection)\n",
    "\n"
   ]
  },
  {
   "cell_type": "code",
   "execution_count": 16,
   "id": "e81621ad-5420-4aff-9ca9-d6945b2153e1",
   "metadata": {
    "tags": []
   },
   "outputs": [
    {
     "name": "stdout",
     "output_type": "stream",
     "text": [
      "{'infection_status': 1, 'incubation_period': 1621}\n"
     ]
    }
   ],
   "source": [
    "# Store infection status over time in a dictionary of dictionaries\n",
    "infection_status_over_time = {}\n",
    "infection_status_over_time[0] = {person_id: {'infection_status': data['infection_status'],\n",
    "                                                  'incubation_period': data['incubation_period']}\n",
    "                                     for person_id, data in people_dict.items()}\n",
    "\n",
    "print(infection_status_over_time[0].get(441))"
   ]
  },
  {
   "cell_type": "code",
   "execution_count": 17,
   "id": "693c2880-e924-4f77-af11-e52043082e85",
   "metadata": {
    "tags": []
   },
   "outputs": [],
   "source": [
    "beta_0 = 0.00055  # 0.0000405      # exogenous/external transmission rate (optimal 0.1-0.2)\n",
    "beta_1 = 0.003  # 0.00005     # network transmission rate given contact (optimal 30)\n",
    "beta_2 = 0.003    #0.00003 # network transmission rate given contact\n"
   ]
  },
  {
   "cell_type": "code",
   "execution_count": 18,
   "id": "682001c4-bc66-4c7d-a94c-398f3438347a",
   "metadata": {
    "tags": []
   },
   "outputs": [
    {
     "name": "stderr",
     "output_type": "stream",
     "text": [
      "/tmp/ipykernel_5409/2059205782.py:40: UserWarning: pandas only supports SQLAlchemy connectable (engine/connection) or database string URI or sqlite3 DBAPI2 connection. Other DBAPI2 objects are not tested. Please consider using SQLAlchemy.\n",
      "  data_t = pd.read_sql(query, conn)\n"
     ]
    },
    {
     "name": "stdout",
     "output_type": "stream",
     "text": [
      "Number of infected people present at the beginning of the current timestep  {20} 6\n",
      "0\n",
      "Number of infected people present at the beginning of the current timestep  {40} 7\n",
      "0\n",
      "Number of infected people present at the beginning of the current timestep  {60} 9\n",
      "0\n",
      "Number of infected people present at the beginning of the current timestep  {80} 11\n",
      "0\n",
      "Number of infected people present at the beginning of the current timestep  {100} 13\n",
      "0\n",
      "Number of infected people present at the beginning of the current timestep  {120} 16\n",
      "0\n",
      "Number of infected people present at the beginning of the current timestep  {140} 18\n",
      "0\n",
      "Number of infected people present at the beginning of the current timestep  {160} 18\n",
      "0\n",
      "Number of infected people present at the beginning of the current timestep  {180} 19\n",
      "0\n",
      "Number of infected people present at the beginning of the current timestep  {200} 21\n",
      "0\n",
      "Number of infected people present at the beginning of the current timestep  {220} 21\n",
      "0\n",
      "Number of infected people present at the beginning of the current timestep  {240} 21\n",
      "0\n",
      "Number of infected people present at the beginning of the current timestep  {260} 22\n",
      "0\n",
      "Number of infected people present at the beginning of the current timestep  {280} 23\n",
      "0\n",
      "Number of infected people present at the beginning of the current timestep  {300} 26\n",
      "0\n",
      "Number of infected people present at the beginning of the current timestep  {320} 29\n",
      "0\n",
      "Number of infected people present at the beginning of the current timestep  {340} 29\n",
      "0\n",
      "Number of infected people present at the beginning of the current timestep  {360} 29\n",
      "0\n",
      "Number of infected people present at the beginning of the current timestep  {380} 30\n",
      "0\n",
      "Number of infected people present at the beginning of the current timestep  {400} 30\n",
      "0\n",
      "Number of infected people present at the beginning of the current timestep  {420} 31\n",
      "0\n",
      "Number of infected people present at the beginning of the current timestep  {440} 34\n",
      "0\n",
      "Number of infected people present at the beginning of the current timestep  {460} 35\n",
      "0\n",
      "Number of infected people present at the beginning of the current timestep  {480} 36\n",
      "0\n",
      "Number of infected people present at the beginning of the current timestep  {500} 38\n",
      "0\n",
      "Number of infected people present at the beginning of the current timestep  {520} 38\n",
      "0\n",
      "Number of infected people present at the beginning of the current timestep  {540} 38\n",
      "0\n",
      "Number of infected people present at the beginning of the current timestep  {560} 39\n",
      "1\n",
      "Number of infected people present at the beginning of the current timestep  {580} 42\n",
      "1\n",
      "Number of infected people present at the beginning of the current timestep  {600} 44\n",
      "0\n",
      "Number of infected people present at the beginning of the current timestep  {620} 47\n",
      "0\n",
      "Number of infected people present at the beginning of the current timestep  {640} 49\n",
      "1\n",
      "Number of infected people present at the beginning of the current timestep  {660} 53\n",
      "0\n",
      "Number of infected people present at the beginning of the current timestep  {680} 54\n",
      "0\n",
      "Number of infected people present at the beginning of the current timestep  {700} 54\n",
      "0\n",
      "Number of infected people present at the beginning of the current timestep  {720} 54\n",
      "0\n",
      "Number of infected people present at the beginning of the current timestep  {740} 55\n",
      "0\n",
      "Number of infected people present at the beginning of the current timestep  {760} 58\n",
      "1\n",
      "Number of infected people present at the beginning of the current timestep  {780} 61\n",
      "0\n",
      "Number of infected people present at the beginning of the current timestep  {800} 62\n",
      "1\n",
      "Number of infected people present at the beginning of the current timestep  {820} 66\n",
      "0\n",
      "Number of infected people present at the beginning of the current timestep  {840} 67\n",
      "0\n",
      "Number of infected people present at the beginning of the current timestep  {860} 69\n",
      "0\n",
      "Number of infected people present at the beginning of the current timestep  {880} 74\n",
      "0\n",
      "Number of infected people present at the beginning of the current timestep  {900} 76\n",
      "0\n",
      "Number of infected people present at the beginning of the current timestep  {920} 79\n",
      "0\n",
      "Number of infected people present at the beginning of the current timestep  {940} 78\n",
      "1\n",
      "Number of infected people present at the beginning of the current timestep  {960} 79\n",
      "0\n",
      "Number of infected people present at the beginning of the current timestep  {980} 79\n",
      "0\n",
      "Number of infected people present at the beginning of the current timestep  {1000} 82\n",
      "0\n",
      "Number of infected people present at the beginning of the current timestep  {1020} 84\n",
      "0\n",
      "Number of infected people present at the beginning of the current timestep  {1040} 85\n",
      "0\n",
      "Number of infected people present at the beginning of the current timestep  {1060} 87\n",
      "0\n",
      "Number of infected people present at the beginning of the current timestep  {1080} 91\n",
      "1\n",
      "Number of infected people present at the beginning of the current timestep  {1100} 94\n",
      "0\n",
      "Number of infected people present at the beginning of the current timestep  {1120} 95\n",
      "1\n",
      "Number of infected people present at the beginning of the current timestep  {1140} 97\n",
      "0\n",
      "Number of infected people present at the beginning of the current timestep  {1160} 98\n",
      "0\n",
      "Number of infected people present at the beginning of the current timestep  {1180} 99\n",
      "0\n",
      "Number of infected people present at the beginning of the current timestep  {1200} 101\n",
      "0\n",
      "Number of infected people present at the beginning of the current timestep  {1220} 104\n",
      "0\n",
      "Number of infected people present at the beginning of the current timestep  {1240} 103\n",
      "0\n",
      "Number of infected people present at the beginning of the current timestep  {1260} 105\n",
      "0\n",
      "Number of infected people present at the beginning of the current timestep  {1280} 108\n",
      "0\n",
      "Number of infected people present at the beginning of the current timestep  {1300} 108\n",
      "0\n",
      "Number of infected people present at the beginning of the current timestep  {1320} 109\n",
      "0\n",
      "Number of infected people present at the beginning of the current timestep  {1340} 113\n",
      "0\n",
      "Number of infected people present at the beginning of the current timestep  {1360} 117\n",
      "0\n",
      "Number of infected people present at the beginning of the current timestep  {1380} 119\n",
      "0\n",
      "Number of infected people present at the beginning of the current timestep  {1400} 121\n",
      "0\n",
      "Number of infected people present at the beginning of the current timestep  {1420} 127\n",
      "1\n",
      "Number of infected people present at the beginning of the current timestep  {1440} 131\n",
      "0\n",
      "Number of infected people present at the beginning of the current timestep  {1460} 132\n",
      "0\n",
      "Number of infected people present at the beginning of the current timestep  {1480} 136\n",
      "0\n",
      "Number of infected people present at the beginning of the current timestep  {1500} 135\n",
      "0\n",
      "Number of infected people present at the beginning of the current timestep  {1520} 140\n",
      "0\n",
      "Number of infected people present at the beginning of the current timestep  {1540} 142\n",
      "0\n",
      "Number of infected people present at the beginning of the current timestep  {1560} 144\n",
      "0\n",
      "Number of infected people present at the beginning of the current timestep  {1580} 143\n",
      "0\n",
      "Number of infected people present at the beginning of the current timestep  {1600} 146\n",
      "0\n",
      "Number of infected people present at the beginning of the current timestep  {1620} 150\n",
      "0\n",
      "Number of infected people present at the beginning of the current timestep  {1640} 148\n",
      "0\n",
      "Number of infected people present at the beginning of the current timestep  {1660} 149\n",
      "0\n",
      "Number of infected people present at the beginning of the current timestep  {1680} 150\n",
      "0\n",
      "Number of infected people present at the beginning of the current timestep  {1700} 154\n",
      "0\n",
      "Number of infected people present at the beginning of the current timestep  {1720} 158\n",
      "0\n",
      "Number of infected people present at the beginning of the current timestep  {1740} 161\n",
      "0\n",
      "Number of infected people present at the beginning of the current timestep  {1760} 166\n",
      "0\n",
      "Number of infected people present at the beginning of the current timestep  {1780} 171\n",
      "0\n",
      "Number of infected people present at the beginning of the current timestep  {1800} 169\n",
      "0\n",
      "Number of infected people present at the beginning of the current timestep  {1820} 168\n",
      "0\n",
      "Number of infected people present at the beginning of the current timestep  {1840} 168\n",
      "0\n",
      "Number of infected people present at the beginning of the current timestep  {1860} 173\n",
      "0\n",
      "Number of infected people present at the beginning of the current timestep  {1880} 172\n",
      "0\n",
      "Number of infected people present at the beginning of the current timestep  {1900} 174\n",
      "1\n",
      "Number of infected people present at the beginning of the current timestep  {1920} 176\n",
      "0\n",
      "Number of infected people present at the beginning of the current timestep  {1940} 174\n",
      "0\n",
      "Number of infected people present at the beginning of the current timestep  {1960} 177\n",
      "0\n",
      "Number of infected people present at the beginning of the current timestep  {1980} 181\n",
      "0\n",
      "Number of infected people present at the beginning of the current timestep  {2000} 182\n",
      "0\n",
      "Number of infected people present at the beginning of the current timestep  {2020} 184\n",
      "0\n",
      "Number of infected people present at the beginning of the current timestep  {2040} 183\n",
      "0\n",
      "Number of infected people present at the beginning of the current timestep  {2060} 187\n",
      "0\n",
      "Number of infected people present at the beginning of the current timestep  {2080} 189\n",
      "0\n",
      "Number of infected people present at the beginning of the current timestep  {2100} 190\n",
      "0\n",
      "Number of infected people present at the beginning of the current timestep  {2120} 187\n",
      "0\n",
      "Number of infected people present at the beginning of the current timestep  {2140} 186\n",
      "0\n",
      "Number of infected people present at the beginning of the current timestep  {2160} 187\n",
      "0\n",
      "Number of infected people present at the beginning of the current timestep  {2180} 187\n",
      "0\n",
      "Number of infected people present at the beginning of the current timestep  {2200} 189\n",
      "0\n",
      "Number of infected people present at the beginning of the current timestep  {2220} 190\n",
      "0\n",
      "Number of infected people present at the beginning of the current timestep  {2240} 190\n",
      "0\n",
      "Number of infected people present at the beginning of the current timestep  {2260} 192\n",
      "1\n",
      "Number of infected people present at the beginning of the current timestep  {2280} 188\n",
      "0\n",
      "Number of infected people present at the beginning of the current timestep  {2300} 187\n",
      "0\n",
      "Number of infected people present at the beginning of the current timestep  {2320} 187\n",
      "1\n",
      "Number of infected people present at the beginning of the current timestep  {2340} 185\n",
      "0\n",
      "Number of infected people present at the beginning of the current timestep  {2360} 185\n",
      "0\n",
      "Number of infected people present at the beginning of the current timestep  {2380} 182\n",
      "1\n",
      "Number of infected people present at the beginning of the current timestep  {2400} 182\n",
      "0\n",
      "Number of infected people present at the beginning of the current timestep  {2420} 183\n",
      "0\n",
      "Number of infected people present at the beginning of the current timestep  {2440} 182\n",
      "0\n",
      "Number of infected people present at the beginning of the current timestep  {2460} 181\n",
      "0\n",
      "Number of infected people present at the beginning of the current timestep  {2480} 179\n",
      "0\n",
      "Number of infected people present at the beginning of the current timestep  {2500} 180\n",
      "0\n",
      "Number of infected people present at the beginning of the current timestep  {2520} 180\n",
      "1\n",
      "Number of infected people present at the beginning of the current timestep  {2540} 178\n",
      "0\n",
      "Number of infected people present at the beginning of the current timestep  {2560} 175\n",
      "0\n",
      "Number of infected people present at the beginning of the current timestep  {2580} 175\n",
      "0\n",
      "Number of infected people present at the beginning of the current timestep  {2600} 173\n",
      "0\n",
      "Number of infected people present at the beginning of the current timestep  {2620} 169\n",
      "0\n",
      "Number of infected people present at the beginning of the current timestep  {2640} 170\n",
      "0\n",
      "Number of infected people present at the beginning of the current timestep  {2660} 167\n",
      "0\n",
      "Number of infected people present at the beginning of the current timestep  {2680} 166\n",
      "0\n",
      "Number of infected people present at the beginning of the current timestep  {2700} 167\n",
      "0\n",
      "Number of infected people present at the beginning of the current timestep  {2720} 164\n",
      "0\n",
      "Number of infected people present at the beginning of the current timestep  {2740} 162\n",
      "0\n",
      "Number of infected people present at the beginning of the current timestep  {2760} 165\n",
      "0\n",
      "Number of infected people present at the beginning of the current timestep  {2780} 164\n",
      "0\n",
      "Number of infected people present at the beginning of the current timestep  {2800} 163\n",
      "0\n",
      "Number of infected people present at the beginning of the current timestep  {2820} 165\n",
      "0\n",
      "Number of infected people present at the beginning of the current timestep  {2840} 166\n",
      "0\n",
      "Number of infected people present at the beginning of the current timestep  {2860} 163\n",
      "0\n",
      "Number of infected people present at the beginning of the current timestep  {2880} 159\n",
      "0\n",
      "Number of infected people present at the beginning of the current timestep  {2900} 160\n",
      "0\n",
      "Number of infected people present at the beginning of the current timestep  {2920} 156\n",
      "0\n",
      "Number of infected people present at the beginning of the current timestep  {2940} 157\n",
      "0\n",
      "Number of infected people present at the beginning of the current timestep  {2960} 154\n",
      "0\n",
      "Number of infected people present at the beginning of the current timestep  {2980} 157\n",
      "0\n",
      "Number of infected people present at the beginning of the current timestep  {3000} 156\n",
      "1\n",
      "Number of infected people present at the beginning of the current timestep  {3020} 155\n",
      "0\n",
      "Number of infected people present at the beginning of the current timestep  {3040} 153\n",
      "0\n",
      "Number of infected people present at the beginning of the current timestep  {3060} 148\n",
      "0\n",
      "Number of infected people present at the beginning of the current timestep  {3080} 147\n",
      "0\n",
      "Number of infected people present at the beginning of the current timestep  {3100} 147\n",
      "0\n",
      "Number of infected people present at the beginning of the current timestep  {3120} 144\n",
      "0\n",
      "Number of infected people present at the beginning of the current timestep  {3140} 142\n",
      "0\n",
      "Number of infected people present at the beginning of the current timestep  {3160} 140\n",
      "0\n",
      "Number of infected people present at the beginning of the current timestep  {3180} 139\n",
      "0\n",
      "Number of infected people present at the beginning of the current timestep  {3200} 142\n",
      "0\n",
      "Number of infected people present at the beginning of the current timestep  {3220} 143\n",
      "0\n",
      "Number of infected people present at the beginning of the current timestep  {3240} 142\n",
      "0\n",
      "Number of infected people present at the beginning of the current timestep  {3260} 141\n",
      "0\n",
      "Number of infected people present at the beginning of the current timestep  {3280} 141\n",
      "1\n",
      "Number of infected people present at the beginning of the current timestep  {3300} 140\n",
      "0\n",
      "Number of infected people present at the beginning of the current timestep  {3320} 138\n",
      "0\n",
      "Number of infected people present at the beginning of the current timestep  {3340} 136\n",
      "0\n",
      "Number of infected people present at the beginning of the current timestep  {3360} 134\n",
      "0\n",
      "Number of infected people present at the beginning of the current timestep  {3380} 133\n",
      "0\n",
      "Number of infected people present at the beginning of the current timestep  {3400} 131\n",
      "0\n",
      "Number of infected people present at the beginning of the current timestep  {3420} 127\n",
      "0\n",
      "Number of infected people present at the beginning of the current timestep  {3440} 126\n",
      "0\n",
      "Number of infected people present at the beginning of the current timestep  {3460} 124\n",
      "0\n",
      "Number of infected people present at the beginning of the current timestep  {3480} 124\n",
      "0\n",
      "Number of infected people present at the beginning of the current timestep  {3500} 123\n",
      "0\n",
      "Number of infected people present at the beginning of the current timestep  {3520} 121\n",
      "0\n",
      "Number of infected people present at the beginning of the current timestep  {3540} 114\n",
      "0\n",
      "Number of infected people present at the beginning of the current timestep  {3560} 113\n",
      "0\n",
      "Number of infected people present at the beginning of the current timestep  {3580} 112\n",
      "0\n",
      "Number of infected people present at the beginning of the current timestep  {3600} 108\n",
      "0\n",
      "Number of infected people present at the beginning of the current timestep  {3620} 109\n",
      "0\n",
      "Number of infected people present at the beginning of the current timestep  {3640} 108\n",
      "0\n",
      "Number of infected people present at the beginning of the current timestep  {3660} 107\n",
      "0\n",
      "Number of infected people present at the beginning of the current timestep  {3680} 105\n",
      "0\n",
      "Number of infected people present at the beginning of the current timestep  {3700} 105\n",
      "0\n",
      "Number of infected people present at the beginning of the current timestep  {3720} 102\n",
      "0\n",
      "Number of infected people present at the beginning of the current timestep  {3740} 97\n",
      "0\n",
      "Number of infected people present at the beginning of the current timestep  {3760} 95\n",
      "0\n",
      "Number of infected people present at the beginning of the current timestep  {3780} 94\n",
      "0\n",
      "Number of infected people present at the beginning of the current timestep  {3800} 92\n",
      "0\n",
      "Number of infected people present at the beginning of the current timestep  {3820} 90\n",
      "0\n",
      "Number of infected people present at the beginning of the current timestep  {3840} 88\n",
      "0\n",
      "Number of infected people present at the beginning of the current timestep  {3860} 88\n",
      "0\n",
      "Number of infected people present at the beginning of the current timestep  {3880} 86\n",
      "0\n",
      "Number of infected people present at the beginning of the current timestep  {3900} 85\n",
      "0\n",
      "Number of infected people present at the beginning of the current timestep  {3920} 87\n",
      "0\n",
      "Number of infected people present at the beginning of the current timestep  {3940} 85\n",
      "0\n",
      "Number of infected people present at the beginning of the current timestep  {3960} 85\n",
      "0\n",
      "Number of infected people present at the beginning of the current timestep  {3980} 84\n",
      "0\n",
      "Number of infected people present at the beginning of the current timestep  {4000} 84\n",
      "0\n",
      "Number of infected people present at the beginning of the current timestep  {4020} 82\n",
      "0\n"
     ]
    }
   ],
   "source": [
    "# Simulate disease spread and recovery over time steps\n",
    "num_time_steps = 4032\n",
    "should_break = False  # Flag to determine if the loop should be exited\n",
    "\n",
    "for t in range(1, num_time_steps+1):\n",
    "    \n",
    "    # Finds labels from past timestep\n",
    "    prev_timestep_data = infection_status_over_time[t - 1]\n",
    "    \n",
    "    # Identifies individuals that are susceptible and infected from past timestep\n",
    "    susceptible = [person_id for person_id, data in prev_timestep_data.items() if data['infection_status'] == 0]\n",
    "    infected = [person_id for person_id, data in prev_timestep_data.items() if data['infection_status'] == 1]\n",
    "    \n",
    "    \n",
    "    # Handles case when no more infected people in population\n",
    "    # Assumes infection status remains the same for all remaining timesteps\n",
    "    if not infected and not susceptible:\n",
    "        print(\"No infected or susceptible people in population from time\", t, \"onwards\")\n",
    "        recovered = [person_id for person_id, data in prev_timestep_data.items() if data['infection_status'] == 2]\n",
    "        print(\"Number of recovered people in the population is: \", len(recovered))\n",
    "        \n",
    "        should_break = True  # Set the flag to break the loop\n",
    "        \n",
    "        for time in range(t, num_time_steps + 1):\n",
    "              infection_status_over_time[time] = {person_id: {'infection_status': data['infection_status'], 'incubation_period': data['incubation_period']} \n",
    "                                                  for person_id, data in prev_timestep_data.items()}\n",
    "    \n",
    "    if should_break:\n",
    "        break  # Check the flag and break the loop if necessary\n",
    "        \n",
    "    new_infected = []\n",
    "    \n",
    "    query = f\"\"\"\n",
    "    SELECT *\n",
    "    FROM distinct_records_sorted\n",
    "    WHERE timestep = {t}\n",
    "    \"\"\"\n",
    "\n",
    "    # Fetch data into a Pandas DataFrame\n",
    "    data_t = pd.read_sql(query, conn)\n",
    "    \n",
    "    # Extract unique numbers from min_person_id and max_person_id columns\n",
    "    # num_people = len(pd.concat([data_t['min_person_id'], data_t['max_person_id']]).unique())\n",
    "    num_people = N\n",
    "\n",
    "    # print(num_people)\n",
    "    \n",
    "    # Calculate FoI based on interactions\n",
    "    current_FoI = np.zeros(len(susceptible))\n",
    "    for idx, s in enumerate(susceptible):\n",
    "        # print(\"Person id: \", idx)\n",
    "        interactions = data_t[((data_t['min_person_id'] == s) | (data_t['max_person_id'] == s)) &\n",
    "                          (data_t['min_person_id'].isin(infected) | data_t['max_person_id'].isin(infected))]\n",
    "        \n",
    "        if len(interactions) > 0:\n",
    "            distances = interactions['distance'].values\n",
    "            if len(distances) == 1:\n",
    "                # print(\"one interaction\")\n",
    "                current_FoI[idx] = beta_0 + beta_1 / distances[0] + beta_2*(len(infected)/num_people)\n",
    "            else:\n",
    "                # print(\"multiple interactions\", len(interactions))\n",
    "                # FoI_sum = np.sum(beta_0 + beta_1 / distances)\n",
    "                current_FoI[idx] = beta_0 + beta_1*(np.sum(1 / distances)) + beta_2*(len(infected)/num_people)\n",
    "            \n",
    "            # print(\"Distance: \", distances)\n",
    "            # print(\"FoI: \", FoI[idx])\n",
    "\n",
    "        else:\n",
    "            current_FoI[idx] = beta_0 + beta_2*(len(infected)/num_people)\n",
    "            \n",
    "            # print(\"Distance: \", 0)\n",
    "            # print(\"FoI: \", FoI[idx])\n",
    "\n",
    "    # Calculate probability of infection\n",
    "    # Calculate p_infect as y = 1 - e^(-0.5x)\n",
    "    p_infect = 1 - np.exp(-0.2 * current_FoI)\n",
    "    \n",
    "    # Generate random numbers for comparison\n",
    "    # seed_value = 111\n",
    "    # np.random.seed(seed_value)\n",
    "    rnd = np.random.uniform(0, 1, len(susceptible))\n",
    "\n",
    "    # Determine new infected individuals\n",
    "    # if len(infected) <= 250:\n",
    "    new_infected_indices = np.where(rnd <= p_infect)[0]\n",
    "    new_infected = [susceptible[idx] for idx in new_infected_indices]\n",
    "\n",
    "    recovery_times = np.random.normal(mean, std_dev, len(new_infected))\n",
    "    recovery_times = np.clip(recovery_times, 0, None)  # Clip negative values to zero\n",
    "    recovery_times = np.around(recovery_times)\n",
    "    # else:\n",
    "#         new_infected = []\n",
    "#         recovery_times = []\n",
    "        \n",
    "    \n",
    "    # print(\"Number of new infections \", {t}, len(new_infected))\n",
    "    if t % 20 == 0:\n",
    "        print(\"Number of infected people present at the beginning of the current timestep \", {t},  len(infected))\n",
    "        # print(np.max(p_infect))\n",
    "        print(len(new_infected))\n",
    "\n",
    "    # Replicate infection status for current timestep\n",
    "    infection_status_over_time[t] = {\n",
    "        person_id: {\n",
    "            'infection_status': infection_status_over_time[t - 1][person_id]['infection_status'],\n",
    "            'incubation_period': infection_status_over_time[t - 1][person_id]['incubation_period']\n",
    "        }\n",
    "        for person_id in range(1, N + 1)\n",
    "    }\n",
    "    \n",
    "    # Update infection status and recovery time for new infected individuals\n",
    "    for person_id, recovery_time in zip(new_infected, recovery_times):\n",
    "        infection_status_over_time[t][person_id]['infection_status'] = 1\n",
    "        infection_status_over_time[t][person_id]['incubation_period'] = recovery_time\n",
    "\n",
    "    \n",
    "    # Decrease incubation period for individuals with positive incubation periods\n",
    "    new_recoveries = 0\n",
    "    for person_id, data in infection_status_over_time[t].items():\n",
    "        if data['incubation_period'] > 0:\n",
    "            data['incubation_period'] -= 1\n",
    "            if data['incubation_period'] == 0 and data['infection_status'] == 1:\n",
    "                infection_status_over_time[t][person_id]['infection_status'] = 2\n",
    "                new_recoveries += 1"
   ]
  },
  {
   "cell_type": "code",
   "execution_count": 19,
   "id": "2ec3aa4a-5d72-42df-ab44-c9963a695726",
   "metadata": {
    "tags": []
   },
   "outputs": [
    {
     "name": "stdout",
     "output_type": "stream",
     "text": [
      "4032\n",
      "Individuals without infection status 2 at the final timestep: 105\n"
     ]
    }
   ],
   "source": [
    "# Find individuals who did not have infection_status of 2 at the final timestep\n",
    "individuals_without_status_2 = []\n",
    "\n",
    "final_timestep = max(infection_status_over_time.keys())\n",
    "print(final_timestep)\n",
    "\n",
    "for person_id, data in infection_status_over_time[final_timestep].items():\n",
    "    if data['infection_status'] == 0:\n",
    "        individuals_without_status_2.append(person_id)\n",
    "\n",
    "print(\"Individuals without infection status 2 at the final timestep:\", len(individuals_without_status_2))"
   ]
  },
  {
   "cell_type": "code",
   "execution_count": 20,
   "id": "9cf137e2-d040-4c2f-8891-5056dce61db8",
   "metadata": {
    "tags": []
   },
   "outputs": [
    {
     "name": "stdout",
     "output_type": "stream",
     "text": [
      "     0     1     2     3     4     5     6     7     8     9     ...  4023   \n",
      "0       0     0     0     0     0     0     0     0     0     0  ...     0  \\\n",
      "1       0     0     0     0     0     0     0     0     0     0  ...     0   \n",
      "2       0     0     0     0     0     0     0     0     0     0  ...     0   \n",
      "3       0     0     0     0     0     0     0     0     0     0  ...     0   \n",
      "4       0     0     0     0     0     0     0     0     0     0  ...     0   \n",
      "..    ...   ...   ...   ...   ...   ...   ...   ...   ...   ...  ...   ...   \n",
      "463     0     0     0     0     0     0     0     0     0     0  ...     0   \n",
      "464     0     0     0     0     0     0     0     0     0     0  ...     0   \n",
      "465     0     0     0     0     0     0     0     0     0     0  ...     1   \n",
      "466     0     0     0     0     0     0     0     0     0     0  ...     0   \n",
      "467     0     0     0     0     0     0     0     0     0     0  ...     0   \n",
      "\n",
      "     4024  4025  4026  4027  4028  4029  4030  4031  4032  \n",
      "0       0     0     0     0     0     0     0     0     0  \n",
      "1       0     0     0     0     0     0     0     0     0  \n",
      "2       0     0     0     0     0     0     0     0     0  \n",
      "3       0     0     0     0     0     0     0     0     0  \n",
      "4       0     0     0     0     0     0     0     0     0  \n",
      "..    ...   ...   ...   ...   ...   ...   ...   ...   ...  \n",
      "463     0     0     0     0     0     0     0     0     0  \n",
      "464     0     0     0     0     0     0     0     0     0  \n",
      "465     1     1     1     1     1     1     1     1     1  \n",
      "466     0     0     0     0     0     0     0     0     0  \n",
      "467     0     0     0     0     0     0     0     0     0  \n",
      "\n",
      "[468 rows x 4033 columns]\n"
     ]
    }
   ],
   "source": [
    "# Create a dictionary to store infection status lists for each time step\n",
    "infection_status_lists = {}\n",
    "\n",
    "# Iterate through the dictionary and extract infection status lists\n",
    "for t, data_dict in infection_status_over_time.items():\n",
    "    infection_status_lists[t] = [data['infection_status'] for person_id, data in data_dict.items()]\n",
    "\n",
    "# Convert the dictionary into a pandas DataFrame\n",
    "df = pd.DataFrame(infection_status_lists)\n",
    "\n",
    "# Replace all occurrences of 2 with 0\n",
    "df = df.replace(2, 0)\n",
    "\n",
    "print(df)"
   ]
  },
  {
   "cell_type": "code",
   "execution_count": 21,
   "id": "ea761764-2294-47b1-874f-18ccbb51eb50",
   "metadata": {
    "tags": []
   },
   "outputs": [],
   "source": [
    "# Extract the last row\n",
    "last_row = df.iloc[-1:]\n",
    "\n",
    "# Remove the last row from the original DataFrame\n",
    "df = df.iloc[:-1]\n",
    "\n",
    "# Insert the last row as the first row\n",
    "df = pd.concat([last_row, df], ignore_index=True)"
   ]
  },
  {
   "cell_type": "code",
   "execution_count": 22,
   "id": "0ed5f34f-f1d2-4abe-aba1-00d4cff946c0",
   "metadata": {
    "tags": []
   },
   "outputs": [
    {
     "name": "stdout",
     "output_type": "stream",
     "text": [
      "     0     1     2     3     4     5     6     7     8     9     ...  4023   \n",
      "0       0     0     0     0     0     0     0     0     0     0  ...     0  \\\n",
      "1       0     0     0     0     0     0     0     0     0     0  ...     0   \n",
      "2       0     0     0     0     0     0     0     0     0     0  ...     0   \n",
      "3       0     0     0     0     0     0     0     0     0     0  ...     0   \n",
      "4       0     0     0     0     0     0     0     0     0     0  ...     0   \n",
      "..    ...   ...   ...   ...   ...   ...   ...   ...   ...   ...  ...   ...   \n",
      "463     0     0     0     0     0     0     0     0     0     0  ...     0   \n",
      "464     0     0     0     0     0     0     0     0     0     0  ...     0   \n",
      "465     0     0     0     0     0     0     0     0     0     0  ...     0   \n",
      "466     0     0     0     0     0     0     0     0     0     0  ...     1   \n",
      "467     0     0     0     0     0     0     0     0     0     0  ...     0   \n",
      "\n",
      "     4024  4025  4026  4027  4028  4029  4030  4031  4032  \n",
      "0       0     0     0     0     0     0     0     0     0  \n",
      "1       0     0     0     0     0     0     0     0     0  \n",
      "2       0     0     0     0     0     0     0     0     0  \n",
      "3       0     0     0     0     0     0     0     0     0  \n",
      "4       0     0     0     0     0     0     0     0     0  \n",
      "..    ...   ...   ...   ...   ...   ...   ...   ...   ...  \n",
      "463     0     0     0     0     0     0     0     0     0  \n",
      "464     0     0     0     0     0     0     0     0     0  \n",
      "465     0     0     0     0     0     0     0     0     0  \n",
      "466     1     1     1     1     1     1     1     1     1  \n",
      "467     0     0     0     0     0     0     0     0     0  \n",
      "\n",
      "[468 rows x 4033 columns]\n"
     ]
    }
   ],
   "source": [
    "print(df)"
   ]
  },
  {
   "cell_type": "code",
   "execution_count": 23,
   "id": "9651f26f-709c-4f2b-9f2a-6e4fa7611ffa",
   "metadata": {
    "tags": []
   },
   "outputs": [],
   "source": [
    "# Save the DataFrame to a CSV file\n",
    "df.to_csv('virus-slow75.csv', index=False)"
   ]
  },
  {
   "cell_type": "code",
   "execution_count": 41,
   "id": "90ae4b33-1b9a-4372-8784-a026242328e7",
   "metadata": {
    "tags": []
   },
   "outputs": [
    {
     "name": "stdout",
     "output_type": "stream",
     "text": [
      "Stored 'df' (DataFrame)\n"
     ]
    }
   ],
   "source": [
    "%store df"
   ]
  },
  {
   "cell_type": "code",
   "execution_count": null,
   "id": "6aa951d3-0e2f-4d39-9a86-52495c8a54a4",
   "metadata": {
    "tags": []
   },
   "outputs": [],
   "source": [
    "for t in range(0, 100):  # Loop through the first 10 timesteps\n",
    "    person_data = infection_status_over_time[t][224]  # Access person ID 396 data for current timestep\n",
    "    infection_status = person_data['infection_status']\n",
    "    incubation_period = person_data['incubation_period']\n",
    "    print(f\"Time Step: {t}, Infection Status for Person 396: {infection_status}, Incubation Period: {incubation_period}\")\n",
    "\n",
    "# [9, 78, 90, 104, 128, 131, 146, 266, 318, 322]\n"
   ]
  },
  {
   "cell_type": "code",
   "execution_count": 459,
   "id": "1c3b9080-cc34-44bb-8fa7-1b817d7470a4",
   "metadata": {
    "tags": []
   },
   "outputs": [
    {
     "name": "stdout",
     "output_type": "stream",
     "text": [
      "Individuals with infection status 0 at timestep 30: [224]\n"
     ]
    }
   ],
   "source": [
    "susceptible_at_timestep_30 = [person_id for person_id, data in infection_status_over_time[30].items() if data['infection_status'] == 0]\n",
    "print(\"Individuals with infection status 0 at timestep 30:\", susceptible_at_timestep_30)\n"
   ]
  },
  {
   "cell_type": "code",
   "execution_count": null,
   "id": "5dd3f35a-3730-4471-aa3c-b380e650f76c",
   "metadata": {
    "tags": []
   },
   "outputs": [],
   "source": [
    "infection_status_over_time[3]"
   ]
  },
  {
   "cell_type": "code",
   "execution_count": null,
   "id": "f1ab7854-0a35-41ed-a349-c3345af91f6d",
   "metadata": {},
   "outputs": [],
   "source": [
    "# Print the infection status over time (nested list)\n",
    "# for t, status in enumerate(infection_status_over_time):\n",
    "#     print(f\"Time step {t}:\")\n",
    "#     print(f\"{status}\")\n",
    "#     print()"
   ]
  },
  {
   "cell_type": "code",
   "execution_count": 42,
   "id": "32ecc007-46a7-4d5a-bf92-171ecac690ba",
   "metadata": {},
   "outputs": [
    {
     "name": "stdout",
     "output_type": "stream",
     "text": [
      "Connection is closed.\n"
     ]
    }
   ],
   "source": [
    "# Close the connection\n",
    "conn.close()\n",
    "\n",
    "# Check if the connection is open\n",
    "if conn.is_connected():\n",
    "    print(\"Connection is open.\")\n",
    "else:\n",
    "    print(\"Connection is closed.\")"
   ]
  },
  {
   "cell_type": "code",
   "execution_count": null,
   "id": "58573eb2-5987-49e7-9c46-35a241d9915a",
   "metadata": {},
   "outputs": [],
   "source": []
  },
  {
   "cell_type": "code",
   "execution_count": 44,
   "id": "79ff4768-fe00-4e84-b5ed-969eca37aa5a",
   "metadata": {
    "tags": []
   },
   "outputs": [],
   "source": [
    "result_data = []\n",
    "\n",
    "for t in range(0, 400):\n",
    "    \n",
    "    query = f\"\"\"\n",
    "        SELECT *\n",
    "        FROM distinct_records_sorted\n",
    "        WHERE timestep = {t}\n",
    "        \"\"\"\n",
    "\n",
    "    # Fetch data into a Pandas DataFrame\n",
    "    data_t = pd.read_sql(query, conn)\n",
    "\n",
    "    # Extract unique numbers from min_person_id and max_person_id columns\n",
    "    people_ids = pd.concat([data_t['min_person_id'], data_t['max_person_id']]).unique()\n",
    "    people_ids = sorted(people_ids) \n",
    "    result_data.append({'timestep': t, 'unique_people_ids': people_ids})\n",
    "    \n",
    "# Create a DataFrame from the result_data list\n",
    "result_df = pd.DataFrame(result_data)\n",
    "# print(result_df)\n",
    "# Save the DataFrame to a CSV file\n",
    "result_df.to_csv('unique_people_ids_per_timestep.csv', index=False)        "
   ]
  },
  {
   "cell_type": "code",
   "execution_count": null,
   "id": "9c7242bc-1eee-4743-b71c-5cdd958b7621",
   "metadata": {},
   "outputs": [],
   "source": []
  }
 ],
 "metadata": {
  "availableInstances": [
   {
    "_defaultOrder": 0,
    "_isFastLaunch": true,
    "category": "General purpose",
    "gpuNum": 0,
    "hideHardwareSpecs": false,
    "memoryGiB": 4,
    "name": "ml.t3.medium",
    "vcpuNum": 2
   },
   {
    "_defaultOrder": 1,
    "_isFastLaunch": false,
    "category": "General purpose",
    "gpuNum": 0,
    "hideHardwareSpecs": false,
    "memoryGiB": 8,
    "name": "ml.t3.large",
    "vcpuNum": 2
   },
   {
    "_defaultOrder": 2,
    "_isFastLaunch": false,
    "category": "General purpose",
    "gpuNum": 0,
    "hideHardwareSpecs": false,
    "memoryGiB": 16,
    "name": "ml.t3.xlarge",
    "vcpuNum": 4
   },
   {
    "_defaultOrder": 3,
    "_isFastLaunch": false,
    "category": "General purpose",
    "gpuNum": 0,
    "hideHardwareSpecs": false,
    "memoryGiB": 32,
    "name": "ml.t3.2xlarge",
    "vcpuNum": 8
   },
   {
    "_defaultOrder": 4,
    "_isFastLaunch": true,
    "category": "General purpose",
    "gpuNum": 0,
    "hideHardwareSpecs": false,
    "memoryGiB": 8,
    "name": "ml.m5.large",
    "vcpuNum": 2
   },
   {
    "_defaultOrder": 5,
    "_isFastLaunch": false,
    "category": "General purpose",
    "gpuNum": 0,
    "hideHardwareSpecs": false,
    "memoryGiB": 16,
    "name": "ml.m5.xlarge",
    "vcpuNum": 4
   },
   {
    "_defaultOrder": 6,
    "_isFastLaunch": false,
    "category": "General purpose",
    "gpuNum": 0,
    "hideHardwareSpecs": false,
    "memoryGiB": 32,
    "name": "ml.m5.2xlarge",
    "vcpuNum": 8
   },
   {
    "_defaultOrder": 7,
    "_isFastLaunch": false,
    "category": "General purpose",
    "gpuNum": 0,
    "hideHardwareSpecs": false,
    "memoryGiB": 64,
    "name": "ml.m5.4xlarge",
    "vcpuNum": 16
   },
   {
    "_defaultOrder": 8,
    "_isFastLaunch": false,
    "category": "General purpose",
    "gpuNum": 0,
    "hideHardwareSpecs": false,
    "memoryGiB": 128,
    "name": "ml.m5.8xlarge",
    "vcpuNum": 32
   },
   {
    "_defaultOrder": 9,
    "_isFastLaunch": false,
    "category": "General purpose",
    "gpuNum": 0,
    "hideHardwareSpecs": false,
    "memoryGiB": 192,
    "name": "ml.m5.12xlarge",
    "vcpuNum": 48
   },
   {
    "_defaultOrder": 10,
    "_isFastLaunch": false,
    "category": "General purpose",
    "gpuNum": 0,
    "hideHardwareSpecs": false,
    "memoryGiB": 256,
    "name": "ml.m5.16xlarge",
    "vcpuNum": 64
   },
   {
    "_defaultOrder": 11,
    "_isFastLaunch": false,
    "category": "General purpose",
    "gpuNum": 0,
    "hideHardwareSpecs": false,
    "memoryGiB": 384,
    "name": "ml.m5.24xlarge",
    "vcpuNum": 96
   },
   {
    "_defaultOrder": 12,
    "_isFastLaunch": false,
    "category": "General purpose",
    "gpuNum": 0,
    "hideHardwareSpecs": false,
    "memoryGiB": 8,
    "name": "ml.m5d.large",
    "vcpuNum": 2
   },
   {
    "_defaultOrder": 13,
    "_isFastLaunch": false,
    "category": "General purpose",
    "gpuNum": 0,
    "hideHardwareSpecs": false,
    "memoryGiB": 16,
    "name": "ml.m5d.xlarge",
    "vcpuNum": 4
   },
   {
    "_defaultOrder": 14,
    "_isFastLaunch": false,
    "category": "General purpose",
    "gpuNum": 0,
    "hideHardwareSpecs": false,
    "memoryGiB": 32,
    "name": "ml.m5d.2xlarge",
    "vcpuNum": 8
   },
   {
    "_defaultOrder": 15,
    "_isFastLaunch": false,
    "category": "General purpose",
    "gpuNum": 0,
    "hideHardwareSpecs": false,
    "memoryGiB": 64,
    "name": "ml.m5d.4xlarge",
    "vcpuNum": 16
   },
   {
    "_defaultOrder": 16,
    "_isFastLaunch": false,
    "category": "General purpose",
    "gpuNum": 0,
    "hideHardwareSpecs": false,
    "memoryGiB": 128,
    "name": "ml.m5d.8xlarge",
    "vcpuNum": 32
   },
   {
    "_defaultOrder": 17,
    "_isFastLaunch": false,
    "category": "General purpose",
    "gpuNum": 0,
    "hideHardwareSpecs": false,
    "memoryGiB": 192,
    "name": "ml.m5d.12xlarge",
    "vcpuNum": 48
   },
   {
    "_defaultOrder": 18,
    "_isFastLaunch": false,
    "category": "General purpose",
    "gpuNum": 0,
    "hideHardwareSpecs": false,
    "memoryGiB": 256,
    "name": "ml.m5d.16xlarge",
    "vcpuNum": 64
   },
   {
    "_defaultOrder": 19,
    "_isFastLaunch": false,
    "category": "General purpose",
    "gpuNum": 0,
    "hideHardwareSpecs": false,
    "memoryGiB": 384,
    "name": "ml.m5d.24xlarge",
    "vcpuNum": 96
   },
   {
    "_defaultOrder": 20,
    "_isFastLaunch": false,
    "category": "General purpose",
    "gpuNum": 0,
    "hideHardwareSpecs": true,
    "memoryGiB": 0,
    "name": "ml.geospatial.interactive",
    "supportedImageNames": [
     "sagemaker-geospatial-v1-0"
    ],
    "vcpuNum": 0
   },
   {
    "_defaultOrder": 21,
    "_isFastLaunch": true,
    "category": "Compute optimized",
    "gpuNum": 0,
    "hideHardwareSpecs": false,
    "memoryGiB": 4,
    "name": "ml.c5.large",
    "vcpuNum": 2
   },
   {
    "_defaultOrder": 22,
    "_isFastLaunch": false,
    "category": "Compute optimized",
    "gpuNum": 0,
    "hideHardwareSpecs": false,
    "memoryGiB": 8,
    "name": "ml.c5.xlarge",
    "vcpuNum": 4
   },
   {
    "_defaultOrder": 23,
    "_isFastLaunch": false,
    "category": "Compute optimized",
    "gpuNum": 0,
    "hideHardwareSpecs": false,
    "memoryGiB": 16,
    "name": "ml.c5.2xlarge",
    "vcpuNum": 8
   },
   {
    "_defaultOrder": 24,
    "_isFastLaunch": false,
    "category": "Compute optimized",
    "gpuNum": 0,
    "hideHardwareSpecs": false,
    "memoryGiB": 32,
    "name": "ml.c5.4xlarge",
    "vcpuNum": 16
   },
   {
    "_defaultOrder": 25,
    "_isFastLaunch": false,
    "category": "Compute optimized",
    "gpuNum": 0,
    "hideHardwareSpecs": false,
    "memoryGiB": 72,
    "name": "ml.c5.9xlarge",
    "vcpuNum": 36
   },
   {
    "_defaultOrder": 26,
    "_isFastLaunch": false,
    "category": "Compute optimized",
    "gpuNum": 0,
    "hideHardwareSpecs": false,
    "memoryGiB": 96,
    "name": "ml.c5.12xlarge",
    "vcpuNum": 48
   },
   {
    "_defaultOrder": 27,
    "_isFastLaunch": false,
    "category": "Compute optimized",
    "gpuNum": 0,
    "hideHardwareSpecs": false,
    "memoryGiB": 144,
    "name": "ml.c5.18xlarge",
    "vcpuNum": 72
   },
   {
    "_defaultOrder": 28,
    "_isFastLaunch": false,
    "category": "Compute optimized",
    "gpuNum": 0,
    "hideHardwareSpecs": false,
    "memoryGiB": 192,
    "name": "ml.c5.24xlarge",
    "vcpuNum": 96
   },
   {
    "_defaultOrder": 29,
    "_isFastLaunch": true,
    "category": "Accelerated computing",
    "gpuNum": 1,
    "hideHardwareSpecs": false,
    "memoryGiB": 16,
    "name": "ml.g4dn.xlarge",
    "vcpuNum": 4
   },
   {
    "_defaultOrder": 30,
    "_isFastLaunch": false,
    "category": "Accelerated computing",
    "gpuNum": 1,
    "hideHardwareSpecs": false,
    "memoryGiB": 32,
    "name": "ml.g4dn.2xlarge",
    "vcpuNum": 8
   },
   {
    "_defaultOrder": 31,
    "_isFastLaunch": false,
    "category": "Accelerated computing",
    "gpuNum": 1,
    "hideHardwareSpecs": false,
    "memoryGiB": 64,
    "name": "ml.g4dn.4xlarge",
    "vcpuNum": 16
   },
   {
    "_defaultOrder": 32,
    "_isFastLaunch": false,
    "category": "Accelerated computing",
    "gpuNum": 1,
    "hideHardwareSpecs": false,
    "memoryGiB": 128,
    "name": "ml.g4dn.8xlarge",
    "vcpuNum": 32
   },
   {
    "_defaultOrder": 33,
    "_isFastLaunch": false,
    "category": "Accelerated computing",
    "gpuNum": 4,
    "hideHardwareSpecs": false,
    "memoryGiB": 192,
    "name": "ml.g4dn.12xlarge",
    "vcpuNum": 48
   },
   {
    "_defaultOrder": 34,
    "_isFastLaunch": false,
    "category": "Accelerated computing",
    "gpuNum": 1,
    "hideHardwareSpecs": false,
    "memoryGiB": 256,
    "name": "ml.g4dn.16xlarge",
    "vcpuNum": 64
   },
   {
    "_defaultOrder": 35,
    "_isFastLaunch": false,
    "category": "Accelerated computing",
    "gpuNum": 1,
    "hideHardwareSpecs": false,
    "memoryGiB": 61,
    "name": "ml.p3.2xlarge",
    "vcpuNum": 8
   },
   {
    "_defaultOrder": 36,
    "_isFastLaunch": false,
    "category": "Accelerated computing",
    "gpuNum": 4,
    "hideHardwareSpecs": false,
    "memoryGiB": 244,
    "name": "ml.p3.8xlarge",
    "vcpuNum": 32
   },
   {
    "_defaultOrder": 37,
    "_isFastLaunch": false,
    "category": "Accelerated computing",
    "gpuNum": 8,
    "hideHardwareSpecs": false,
    "memoryGiB": 488,
    "name": "ml.p3.16xlarge",
    "vcpuNum": 64
   },
   {
    "_defaultOrder": 38,
    "_isFastLaunch": false,
    "category": "Accelerated computing",
    "gpuNum": 8,
    "hideHardwareSpecs": false,
    "memoryGiB": 768,
    "name": "ml.p3dn.24xlarge",
    "vcpuNum": 96
   },
   {
    "_defaultOrder": 39,
    "_isFastLaunch": false,
    "category": "Memory Optimized",
    "gpuNum": 0,
    "hideHardwareSpecs": false,
    "memoryGiB": 16,
    "name": "ml.r5.large",
    "vcpuNum": 2
   },
   {
    "_defaultOrder": 40,
    "_isFastLaunch": false,
    "category": "Memory Optimized",
    "gpuNum": 0,
    "hideHardwareSpecs": false,
    "memoryGiB": 32,
    "name": "ml.r5.xlarge",
    "vcpuNum": 4
   },
   {
    "_defaultOrder": 41,
    "_isFastLaunch": false,
    "category": "Memory Optimized",
    "gpuNum": 0,
    "hideHardwareSpecs": false,
    "memoryGiB": 64,
    "name": "ml.r5.2xlarge",
    "vcpuNum": 8
   },
   {
    "_defaultOrder": 42,
    "_isFastLaunch": false,
    "category": "Memory Optimized",
    "gpuNum": 0,
    "hideHardwareSpecs": false,
    "memoryGiB": 128,
    "name": "ml.r5.4xlarge",
    "vcpuNum": 16
   },
   {
    "_defaultOrder": 43,
    "_isFastLaunch": false,
    "category": "Memory Optimized",
    "gpuNum": 0,
    "hideHardwareSpecs": false,
    "memoryGiB": 256,
    "name": "ml.r5.8xlarge",
    "vcpuNum": 32
   },
   {
    "_defaultOrder": 44,
    "_isFastLaunch": false,
    "category": "Memory Optimized",
    "gpuNum": 0,
    "hideHardwareSpecs": false,
    "memoryGiB": 384,
    "name": "ml.r5.12xlarge",
    "vcpuNum": 48
   },
   {
    "_defaultOrder": 45,
    "_isFastLaunch": false,
    "category": "Memory Optimized",
    "gpuNum": 0,
    "hideHardwareSpecs": false,
    "memoryGiB": 512,
    "name": "ml.r5.16xlarge",
    "vcpuNum": 64
   },
   {
    "_defaultOrder": 46,
    "_isFastLaunch": false,
    "category": "Memory Optimized",
    "gpuNum": 0,
    "hideHardwareSpecs": false,
    "memoryGiB": 768,
    "name": "ml.r5.24xlarge",
    "vcpuNum": 96
   },
   {
    "_defaultOrder": 47,
    "_isFastLaunch": false,
    "category": "Accelerated computing",
    "gpuNum": 1,
    "hideHardwareSpecs": false,
    "memoryGiB": 16,
    "name": "ml.g5.xlarge",
    "vcpuNum": 4
   },
   {
    "_defaultOrder": 48,
    "_isFastLaunch": false,
    "category": "Accelerated computing",
    "gpuNum": 1,
    "hideHardwareSpecs": false,
    "memoryGiB": 32,
    "name": "ml.g5.2xlarge",
    "vcpuNum": 8
   },
   {
    "_defaultOrder": 49,
    "_isFastLaunch": false,
    "category": "Accelerated computing",
    "gpuNum": 1,
    "hideHardwareSpecs": false,
    "memoryGiB": 64,
    "name": "ml.g5.4xlarge",
    "vcpuNum": 16
   },
   {
    "_defaultOrder": 50,
    "_isFastLaunch": false,
    "category": "Accelerated computing",
    "gpuNum": 1,
    "hideHardwareSpecs": false,
    "memoryGiB": 128,
    "name": "ml.g5.8xlarge",
    "vcpuNum": 32
   },
   {
    "_defaultOrder": 51,
    "_isFastLaunch": false,
    "category": "Accelerated computing",
    "gpuNum": 1,
    "hideHardwareSpecs": false,
    "memoryGiB": 256,
    "name": "ml.g5.16xlarge",
    "vcpuNum": 64
   },
   {
    "_defaultOrder": 52,
    "_isFastLaunch": false,
    "category": "Accelerated computing",
    "gpuNum": 4,
    "hideHardwareSpecs": false,
    "memoryGiB": 192,
    "name": "ml.g5.12xlarge",
    "vcpuNum": 48
   },
   {
    "_defaultOrder": 53,
    "_isFastLaunch": false,
    "category": "Accelerated computing",
    "gpuNum": 4,
    "hideHardwareSpecs": false,
    "memoryGiB": 384,
    "name": "ml.g5.24xlarge",
    "vcpuNum": 96
   },
   {
    "_defaultOrder": 54,
    "_isFastLaunch": false,
    "category": "Accelerated computing",
    "gpuNum": 8,
    "hideHardwareSpecs": false,
    "memoryGiB": 768,
    "name": "ml.g5.48xlarge",
    "vcpuNum": 192
   },
   {
    "_defaultOrder": 55,
    "_isFastLaunch": false,
    "category": "Accelerated computing",
    "gpuNum": 8,
    "hideHardwareSpecs": false,
    "memoryGiB": 1152,
    "name": "ml.p4d.24xlarge",
    "vcpuNum": 96
   },
   {
    "_defaultOrder": 56,
    "_isFastLaunch": false,
    "category": "Accelerated computing",
    "gpuNum": 8,
    "hideHardwareSpecs": false,
    "memoryGiB": 1152,
    "name": "ml.p4de.24xlarge",
    "vcpuNum": 96
   }
  ],
  "instance_type": "ml.g4dn.xlarge",
  "kernelspec": {
   "display_name": "Python 3 (PyTorch 2.0.0 Python 3.10 GPU Optimized)",
   "language": "python",
   "name": "python3__SAGEMAKER_INTERNAL__arn:aws:sagemaker:eu-west-2:712779665605:image/pytorch-2.0.0-gpu-py310"
  },
  "language_info": {
   "codemirror_mode": {
    "name": "ipython",
    "version": 3
   },
   "file_extension": ".py",
   "mimetype": "text/x-python",
   "name": "python",
   "nbconvert_exporter": "python",
   "pygments_lexer": "ipython3",
   "version": "3.10.8"
  }
 },
 "nbformat": 4,
 "nbformat_minor": 5
}
